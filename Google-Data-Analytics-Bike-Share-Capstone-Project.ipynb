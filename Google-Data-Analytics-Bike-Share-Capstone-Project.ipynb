{
 "cells": [
  {
   "cell_type": "code",
   "execution_count": 1,
   "id": "9db208b1",
   "metadata": {},
   "outputs": [],
   "source": [
    "# Import the required libraries into the notebook\n",
    "import pandas as pd # Library for data manipulation and analysis\n",
    "import numpy as np # Library for scientific computing and mathematical operations on arrays\n",
    "import matplotlib.pyplot as plt # Library for data visualization\n",
    "import seaborn as sns # Library for advanced data visualization\n",
    "import datetime # Library for working with dates and times"
   ]
  },
  {
   "cell_type": "code",
   "execution_count": 2,
   "id": "6a7cc170",
   "metadata": {},
   "outputs": [],
   "source": [
    "# Importing data files for the past 12 months into the notebook\n",
    "data_file_01 = pd.read_csv(\"../Bike-share/2022-02-divvy-tripdata.csv\")\n",
    "data_file_02 = pd.read_csv(\"../Bike-share/2022-03-divvy-tripdata.csv\")\n",
    "data_file_03 = pd.read_csv(\"../Bike-share/2022-04-divvy-tripdata.csv\")\n",
    "data_file_04 = pd.read_csv(\"../Bike-share/2022-05-divvy-tripdata.csv\")\n",
    "data_file_05 = pd.read_csv(\"../Bike-share/2022-06-divvy-tripdata.csv\")\n",
    "data_file_06 = pd.read_csv(\"../Bike-share/2022-07-divvy-tripdata.csv\")\n",
    "data_file_07 = pd.read_csv(\"../Bike-share/2022-08-divvy-tripdata.csv\")\n",
    "data_file_08 = pd.read_csv(\"../Bike-share/2022-09-divvy-tripdata.csv\")\n",
    "data_file_09 = pd.read_csv(\"../Bike-share/2022-10-divvy-tripdata.csv\")\n",
    "data_file_10 = pd.read_csv(\"../Bike-share/2022-11-divvy-tripdata.csv\")\n",
    "data_file_11 = pd.read_csv(\"../Bike-share/2022-12-divvy-tripdata.csv\")\n",
    "data_file_12 = pd.read_csv(\"../Bike-share/2023-01-divvy-tripdata.csv\")\n",
    "#Each data file represents one month of trip data for the Divvy bike-share program. The files are in CSV format and contain information on each individual bike trip, such as the start and end time, duration, station IDs, and user types."
   ]
  },
  {
   "cell_type": "code",
   "execution_count": 3,
   "id": "4f0b5be3",
   "metadata": {},
   "outputs": [],
   "source": [
    "# Combine all the data files into a single data frame\n",
    "# Define a list with all the data frames\n",
    "all_data_files = [data_file_01, data_file_02, data_file_03, data_file_04, data_file_05, data_file_06, data_file_07, data_file_08, data_file_09, data_file_10, data_file_11, data_file_12]\n",
    "# Concatenate all the data frames in the list into a single data frame\n",
    "data_file = pd.concat(all_data_files)"
   ]
  },
  {
   "cell_type": "code",
   "execution_count": 4,
   "id": "b0c0a0fe",
   "metadata": {},
   "outputs": [
    {
     "data": {
      "text/html": [
       "<div>\n",
       "<style scoped>\n",
       "    .dataframe tbody tr th:only-of-type {\n",
       "        vertical-align: middle;\n",
       "    }\n",
       "\n",
       "    .dataframe tbody tr th {\n",
       "        vertical-align: top;\n",
       "    }\n",
       "\n",
       "    .dataframe thead th {\n",
       "        text-align: right;\n",
       "    }\n",
       "</style>\n",
       "<table border=\"1\" class=\"dataframe\">\n",
       "  <thead>\n",
       "    <tr style=\"text-align: right;\">\n",
       "      <th></th>\n",
       "      <th>ride_id</th>\n",
       "      <th>rideable_type</th>\n",
       "      <th>started_at</th>\n",
       "      <th>ended_at</th>\n",
       "      <th>start_station_name</th>\n",
       "      <th>start_station_id</th>\n",
       "      <th>end_station_name</th>\n",
       "      <th>end_station_id</th>\n",
       "      <th>start_lat</th>\n",
       "      <th>start_lng</th>\n",
       "      <th>end_lat</th>\n",
       "      <th>end_lng</th>\n",
       "      <th>member_casual</th>\n",
       "    </tr>\n",
       "  </thead>\n",
       "  <tbody>\n",
       "    <tr>\n",
       "      <th>0</th>\n",
       "      <td>E1E065E7ED285C02</td>\n",
       "      <td>classic_bike</td>\n",
       "      <td>2022-02-19 18:08:41</td>\n",
       "      <td>2022-02-19 18:23:56</td>\n",
       "      <td>State St &amp; Randolph St</td>\n",
       "      <td>TA1305000029</td>\n",
       "      <td>Clark St &amp; Lincoln Ave</td>\n",
       "      <td>13179</td>\n",
       "      <td>41.884621</td>\n",
       "      <td>-87.627834</td>\n",
       "      <td>41.915689</td>\n",
       "      <td>-87.634600</td>\n",
       "      <td>member</td>\n",
       "    </tr>\n",
       "    <tr>\n",
       "      <th>1</th>\n",
       "      <td>1602DCDC5B30FFE3</td>\n",
       "      <td>classic_bike</td>\n",
       "      <td>2022-02-20 17:41:30</td>\n",
       "      <td>2022-02-20 17:45:56</td>\n",
       "      <td>Halsted St &amp; Wrightwood Ave</td>\n",
       "      <td>TA1309000061</td>\n",
       "      <td>Southport Ave &amp; Wrightwood Ave</td>\n",
       "      <td>TA1307000113</td>\n",
       "      <td>41.929143</td>\n",
       "      <td>-87.649077</td>\n",
       "      <td>41.928773</td>\n",
       "      <td>-87.663913</td>\n",
       "      <td>member</td>\n",
       "    </tr>\n",
       "    <tr>\n",
       "      <th>2</th>\n",
       "      <td>BE7DD2AF4B55C4AF</td>\n",
       "      <td>classic_bike</td>\n",
       "      <td>2022-02-25 18:55:56</td>\n",
       "      <td>2022-02-25 19:09:34</td>\n",
       "      <td>State St &amp; Randolph St</td>\n",
       "      <td>TA1305000029</td>\n",
       "      <td>Canal St &amp; Adams St</td>\n",
       "      <td>13011</td>\n",
       "      <td>41.884621</td>\n",
       "      <td>-87.627834</td>\n",
       "      <td>41.879255</td>\n",
       "      <td>-87.639904</td>\n",
       "      <td>member</td>\n",
       "    </tr>\n",
       "    <tr>\n",
       "      <th>3</th>\n",
       "      <td>A1789BDF844412BE</td>\n",
       "      <td>classic_bike</td>\n",
       "      <td>2022-02-14 11:57:03</td>\n",
       "      <td>2022-02-14 12:04:00</td>\n",
       "      <td>Southport Ave &amp; Waveland Ave</td>\n",
       "      <td>13235</td>\n",
       "      <td>Broadway &amp; Sheridan Rd</td>\n",
       "      <td>13323</td>\n",
       "      <td>41.948150</td>\n",
       "      <td>-87.663940</td>\n",
       "      <td>41.952833</td>\n",
       "      <td>-87.649993</td>\n",
       "      <td>member</td>\n",
       "    </tr>\n",
       "    <tr>\n",
       "      <th>4</th>\n",
       "      <td>07DE78092C62F7B3</td>\n",
       "      <td>classic_bike</td>\n",
       "      <td>2022-02-16 05:36:06</td>\n",
       "      <td>2022-02-16 05:39:00</td>\n",
       "      <td>State St &amp; Randolph St</td>\n",
       "      <td>TA1305000029</td>\n",
       "      <td>Franklin St &amp; Lake St</td>\n",
       "      <td>TA1307000111</td>\n",
       "      <td>41.884621</td>\n",
       "      <td>-87.627834</td>\n",
       "      <td>41.885837</td>\n",
       "      <td>-87.635500</td>\n",
       "      <td>member</td>\n",
       "    </tr>\n",
       "    <tr>\n",
       "      <th>...</th>\n",
       "      <td>...</td>\n",
       "      <td>...</td>\n",
       "      <td>...</td>\n",
       "      <td>...</td>\n",
       "      <td>...</td>\n",
       "      <td>...</td>\n",
       "      <td>...</td>\n",
       "      <td>...</td>\n",
       "      <td>...</td>\n",
       "      <td>...</td>\n",
       "      <td>...</td>\n",
       "      <td>...</td>\n",
       "      <td>...</td>\n",
       "    </tr>\n",
       "    <tr>\n",
       "      <th>190296</th>\n",
       "      <td>A303816F2E8A35A8</td>\n",
       "      <td>electric_bike</td>\n",
       "      <td>2023-01-11 17:46:23</td>\n",
       "      <td>2023-01-11 17:57:31</td>\n",
       "      <td>Clark St &amp; Elm St</td>\n",
       "      <td>TA1307000039</td>\n",
       "      <td>Southport Ave &amp; Clybourn Ave</td>\n",
       "      <td>TA1309000030</td>\n",
       "      <td>41.902634</td>\n",
       "      <td>-87.631591</td>\n",
       "      <td>41.920771</td>\n",
       "      <td>-87.663712</td>\n",
       "      <td>casual</td>\n",
       "    </tr>\n",
       "    <tr>\n",
       "      <th>190297</th>\n",
       "      <td>BCDBB142CC610382</td>\n",
       "      <td>classic_bike</td>\n",
       "      <td>2023-01-30 15:08:10</td>\n",
       "      <td>2023-01-30 15:33:26</td>\n",
       "      <td>Western Ave &amp; Leland Ave</td>\n",
       "      <td>TA1307000140</td>\n",
       "      <td>Clarendon Ave &amp; Gordon Ter</td>\n",
       "      <td>13379</td>\n",
       "      <td>41.966400</td>\n",
       "      <td>-87.688704</td>\n",
       "      <td>41.957867</td>\n",
       "      <td>-87.649505</td>\n",
       "      <td>member</td>\n",
       "    </tr>\n",
       "    <tr>\n",
       "      <th>190298</th>\n",
       "      <td>7D1C7CA80517183B</td>\n",
       "      <td>classic_bike</td>\n",
       "      <td>2023-01-06 19:34:50</td>\n",
       "      <td>2023-01-06 19:50:01</td>\n",
       "      <td>Clark St &amp; Elm St</td>\n",
       "      <td>TA1307000039</td>\n",
       "      <td>Southport Ave &amp; Clybourn Ave</td>\n",
       "      <td>TA1309000030</td>\n",
       "      <td>41.902973</td>\n",
       "      <td>-87.631280</td>\n",
       "      <td>41.920771</td>\n",
       "      <td>-87.663712</td>\n",
       "      <td>casual</td>\n",
       "    </tr>\n",
       "    <tr>\n",
       "      <th>190299</th>\n",
       "      <td>1A4EB636346DF527</td>\n",
       "      <td>classic_bike</td>\n",
       "      <td>2023-01-13 18:59:24</td>\n",
       "      <td>2023-01-13 19:14:44</td>\n",
       "      <td>Clark St &amp; Elm St</td>\n",
       "      <td>TA1307000039</td>\n",
       "      <td>Southport Ave &amp; Clybourn Ave</td>\n",
       "      <td>TA1309000030</td>\n",
       "      <td>41.902973</td>\n",
       "      <td>-87.631280</td>\n",
       "      <td>41.920771</td>\n",
       "      <td>-87.663712</td>\n",
       "      <td>casual</td>\n",
       "    </tr>\n",
       "    <tr>\n",
       "      <th>190300</th>\n",
       "      <td>069971675AC7DC62</td>\n",
       "      <td>electric_bike</td>\n",
       "      <td>2023-01-02 13:48:29</td>\n",
       "      <td>2023-01-02 13:59:29</td>\n",
       "      <td>Clark St &amp; Elm St</td>\n",
       "      <td>TA1307000039</td>\n",
       "      <td>Southport Ave &amp; Clybourn Ave</td>\n",
       "      <td>TA1309000030</td>\n",
       "      <td>41.902822</td>\n",
       "      <td>-87.631687</td>\n",
       "      <td>41.920771</td>\n",
       "      <td>-87.663712</td>\n",
       "      <td>casual</td>\n",
       "    </tr>\n",
       "  </tbody>\n",
       "</table>\n",
       "<p>5754248 rows × 13 columns</p>\n",
       "</div>"
      ],
      "text/plain": [
       "                 ride_id  rideable_type           started_at  \\\n",
       "0       E1E065E7ED285C02   classic_bike  2022-02-19 18:08:41   \n",
       "1       1602DCDC5B30FFE3   classic_bike  2022-02-20 17:41:30   \n",
       "2       BE7DD2AF4B55C4AF   classic_bike  2022-02-25 18:55:56   \n",
       "3       A1789BDF844412BE   classic_bike  2022-02-14 11:57:03   \n",
       "4       07DE78092C62F7B3   classic_bike  2022-02-16 05:36:06   \n",
       "...                  ...            ...                  ...   \n",
       "190296  A303816F2E8A35A8  electric_bike  2023-01-11 17:46:23   \n",
       "190297  BCDBB142CC610382   classic_bike  2023-01-30 15:08:10   \n",
       "190298  7D1C7CA80517183B   classic_bike  2023-01-06 19:34:50   \n",
       "190299  1A4EB636346DF527   classic_bike  2023-01-13 18:59:24   \n",
       "190300  069971675AC7DC62  electric_bike  2023-01-02 13:48:29   \n",
       "\n",
       "                   ended_at            start_station_name start_station_id  \\\n",
       "0       2022-02-19 18:23:56        State St & Randolph St     TA1305000029   \n",
       "1       2022-02-20 17:45:56   Halsted St & Wrightwood Ave     TA1309000061   \n",
       "2       2022-02-25 19:09:34        State St & Randolph St     TA1305000029   \n",
       "3       2022-02-14 12:04:00  Southport Ave & Waveland Ave            13235   \n",
       "4       2022-02-16 05:39:00        State St & Randolph St     TA1305000029   \n",
       "...                     ...                           ...              ...   \n",
       "190296  2023-01-11 17:57:31             Clark St & Elm St     TA1307000039   \n",
       "190297  2023-01-30 15:33:26      Western Ave & Leland Ave     TA1307000140   \n",
       "190298  2023-01-06 19:50:01             Clark St & Elm St     TA1307000039   \n",
       "190299  2023-01-13 19:14:44             Clark St & Elm St     TA1307000039   \n",
       "190300  2023-01-02 13:59:29             Clark St & Elm St     TA1307000039   \n",
       "\n",
       "                      end_station_name end_station_id  start_lat  start_lng  \\\n",
       "0               Clark St & Lincoln Ave          13179  41.884621 -87.627834   \n",
       "1       Southport Ave & Wrightwood Ave   TA1307000113  41.929143 -87.649077   \n",
       "2                  Canal St & Adams St          13011  41.884621 -87.627834   \n",
       "3               Broadway & Sheridan Rd          13323  41.948150 -87.663940   \n",
       "4                Franklin St & Lake St   TA1307000111  41.884621 -87.627834   \n",
       "...                                ...            ...        ...        ...   \n",
       "190296    Southport Ave & Clybourn Ave   TA1309000030  41.902634 -87.631591   \n",
       "190297      Clarendon Ave & Gordon Ter          13379  41.966400 -87.688704   \n",
       "190298    Southport Ave & Clybourn Ave   TA1309000030  41.902973 -87.631280   \n",
       "190299    Southport Ave & Clybourn Ave   TA1309000030  41.902973 -87.631280   \n",
       "190300    Southport Ave & Clybourn Ave   TA1309000030  41.902822 -87.631687   \n",
       "\n",
       "          end_lat    end_lng member_casual  \n",
       "0       41.915689 -87.634600        member  \n",
       "1       41.928773 -87.663913        member  \n",
       "2       41.879255 -87.639904        member  \n",
       "3       41.952833 -87.649993        member  \n",
       "4       41.885837 -87.635500        member  \n",
       "...           ...        ...           ...  \n",
       "190296  41.920771 -87.663712        casual  \n",
       "190297  41.957867 -87.649505        member  \n",
       "190298  41.920771 -87.663712        casual  \n",
       "190299  41.920771 -87.663712        casual  \n",
       "190300  41.920771 -87.663712        casual  \n",
       "\n",
       "[5754248 rows x 13 columns]"
      ]
     },
     "execution_count": 4,
     "metadata": {},
     "output_type": "execute_result"
    }
   ],
   "source": [
    "# Read the file and store it in a variable\n",
    "case_file_5000 = data_file\n",
    "case_file_5000"
   ]
  },
  {
   "cell_type": "code",
   "execution_count": 5,
   "id": "5188cd54",
   "metadata": {},
   "outputs": [
    {
     "name": "stdout",
     "output_type": "stream",
     "text": [
      "<class 'pandas.core.frame.DataFrame'>\n",
      "Int64Index: 5754248 entries, 0 to 190300\n",
      "Data columns (total 13 columns):\n",
      " #   Column              Dtype  \n",
      "---  ------              -----  \n",
      " 0   ride_id             object \n",
      " 1   rideable_type       object \n",
      " 2   started_at          object \n",
      " 3   ended_at            object \n",
      " 4   start_station_name  object \n",
      " 5   start_station_id    object \n",
      " 6   end_station_name    object \n",
      " 7   end_station_id      object \n",
      " 8   start_lat           float64\n",
      " 9   start_lng           float64\n",
      " 10  end_lat             float64\n",
      " 11  end_lng             float64\n",
      " 12  member_casual       object \n",
      "dtypes: float64(4), object(9)\n",
      "memory usage: 614.6+ MB\n"
     ]
    }
   ],
   "source": [
    "# Print information about the dataframe\n",
    "case_file_5000.info()"
   ]
  },
  {
   "cell_type": "code",
   "execution_count": 6,
   "id": "22c5cadd",
   "metadata": {},
   "outputs": [],
   "source": [
    "# Convert data type of start_time & end_time columns to datetime data type\n",
    "# using pandas to_datetime() method\n",
    "case_file_5000[\"start_time\"] = pd.to_datetime(case_file_5000[\"started_at\"])\n",
    "case_file_5000[\"end_time\"] = pd.to_datetime(case_file_5000[\"ended_at\"])"
   ]
  },
  {
   "cell_type": "code",
   "execution_count": 7,
   "id": "fe6c59fe",
   "metadata": {},
   "outputs": [
    {
     "data": {
      "text/plain": [
       "0        0 days 00:15:15\n",
       "1        0 days 00:04:26\n",
       "2        0 days 00:13:38\n",
       "3        0 days 00:06:57\n",
       "4        0 days 00:02:54\n",
       "               ...      \n",
       "190296   0 days 00:11:08\n",
       "190297   0 days 00:25:16\n",
       "190298   0 days 00:15:11\n",
       "190299   0 days 00:15:20\n",
       "190300   0 days 00:11:00\n",
       "Name: ride_length, Length: 5754248, dtype: timedelta64[ns]"
      ]
     },
     "execution_count": 7,
     "metadata": {},
     "output_type": "execute_result"
    }
   ],
   "source": [
    "# Add a new column \"ride_length\" to the dataframe to calculate the travel time\n",
    "case_file_5000[\"ride_length\"] = case_file_5000[\"end_time\"] - case_file_5000[\"start_time\"]\n",
    "\n",
    "#Print the ride_length column\n",
    "case_file_5000[\"ride_length\"]"
   ]
  },
  {
   "cell_type": "code",
   "execution_count": 8,
   "id": "38a21523",
   "metadata": {},
   "outputs": [
    {
     "name": "stdout",
     "output_type": "stream",
     "text": [
      "<class 'pandas.core.frame.DataFrame'>\n",
      "Int64Index: 5754248 entries, 0 to 190300\n",
      "Data columns (total 3 columns):\n",
      " #   Column       Dtype          \n",
      "---  ------       -----          \n",
      " 0   start_time   datetime64[ns] \n",
      " 1   end_time     datetime64[ns] \n",
      " 2   ride_length  timedelta64[ns]\n",
      "dtypes: datetime64[ns](2), timedelta64[ns](1)\n",
      "memory usage: 175.6 MB\n"
     ]
    }
   ],
   "source": [
    "# Print information about the updated data type of columns\n",
    "case_file_5000[[\"start_time\", \"end_time\", \"ride_length\"]].info()"
   ]
  },
  {
   "cell_type": "code",
   "execution_count": 9,
   "id": "6ec33b79",
   "metadata": {},
   "outputs": [
    {
     "data": {
      "text/plain": [
       "0         2022-02-19\n",
       "1         2022-02-20\n",
       "2         2022-02-25\n",
       "3         2022-02-14\n",
       "4         2022-02-16\n",
       "             ...    \n",
       "190296    2023-01-11\n",
       "190297    2023-01-30\n",
       "190298    2023-01-06\n",
       "190299    2023-01-13\n",
       "190300    2023-01-02\n",
       "Name: start_date1, Length: 5754248, dtype: object"
      ]
     },
     "execution_count": 9,
     "metadata": {},
     "output_type": "execute_result"
    }
   ],
   "source": [
    "# Extracting the date from \"started_at\" column\n",
    "case_file_5000[\"start_date1\"] = pd.to_datetime(case_file_5000[\"started_at\"]).dt.date\n",
    "case_file_5000[\"start_date1\"]"
   ]
  },
  {
   "cell_type": "code",
   "execution_count": 10,
   "id": "5c9dde41",
   "metadata": {},
   "outputs": [],
   "source": [
    "# Convert \"start_date1\" into datetime data type\n",
    "case_file_5000[\"start_date1\"] = pd.to_datetime(case_file_5000[\"start_date1\"])"
   ]
  },
  {
   "cell_type": "code",
   "execution_count": 11,
   "id": "e2d87c44",
   "metadata": {},
   "outputs": [
    {
     "data": {
      "text/plain": [
       "array([5, 6, 4, 0, 2, 1, 3], dtype=int64)"
      ]
     },
     "execution_count": 11,
     "metadata": {},
     "output_type": "execute_result"
    }
   ],
   "source": [
    "# Finds the weekday of the date for each row in the dataframe and assigns it to a new column called \"week_day\".\n",
    "# It uses the apply() function with a lambda function to extract the weekday from the date.\n",
    "case_file_5000['week_day'] = case_file_5000[\"start_date1\"].apply(lambda x: x.weekday())\n",
    "case_file_5000['week_day'].unique()"
   ]
  },
  {
   "cell_type": "code",
   "execution_count": 12,
   "id": "e1145cd0",
   "metadata": {},
   "outputs": [
    {
     "data": {
      "text/plain": [
       "0           Friday\n",
       "1         Saturday\n",
       "2         Thursday\n",
       "3           Sunday\n",
       "4          Tuesday\n",
       "            ...   \n",
       "190296     Tuesday\n",
       "190297      Sunday\n",
       "190298    Thursday\n",
       "190299    Thursday\n",
       "190300      Sunday\n",
       "Name: week_day, Length: 5754248, dtype: object"
      ]
     },
     "execution_count": 12,
     "metadata": {},
     "output_type": "execute_result"
    }
   ],
   "source": [
    "# Converting weekday values to weekday names\n",
    "weekday_dict = {0: \"Sunday\", 1: \"Monday\", 2: \"Tuesday\", 3: \"Wednesday\", 4: \"Thursday\", 5: \"Friday\", 6: \"Saturday\"}\n",
    "case_file_5000['week_day'] = case_file_5000['week_day'].apply(lambda x: weekday_dict[x])\n",
    "case_file_5000['week_day']"
   ]
  },
  {
   "cell_type": "code",
   "execution_count": 13,
   "id": "5e27eaa4",
   "metadata": {},
   "outputs": [],
   "source": [
    "# Sorting the dataframe by start date in ascending order\n",
    "case_file_5000.sort_values(by=['start_time'], inplace=True, ascending=True)"
   ]
  },
  {
   "cell_type": "code",
   "execution_count": 14,
   "id": "1410dc9d",
   "metadata": {},
   "outputs": [],
   "source": [
    "# drop all rows with any NaN values\n",
    "case_file_5000_cleaned = case_file_5000.dropna()"
   ]
  },
  {
   "cell_type": "code",
   "execution_count": 15,
   "id": "58bbaf2a",
   "metadata": {},
   "outputs": [],
   "source": [
    "# save the cleaned file for further transformation of data\n",
    "case_file_5000_cleaned.to_csv('cleaned_data.csv')"
   ]
  },
  {
   "cell_type": "code",
   "execution_count": 16,
   "id": "d7c0d2a0",
   "metadata": {},
   "outputs": [],
   "source": [
    "# Import the cleaned_data file\n",
    "cleaned_file = pd.read_csv(\"cleaned_data.csv\")"
   ]
  },
  {
   "cell_type": "code",
   "execution_count": 17,
   "id": "af3d90c0",
   "metadata": {},
   "outputs": [
    {
     "data": {
      "text/html": [
       "<div>\n",
       "<style scoped>\n",
       "    .dataframe tbody tr th:only-of-type {\n",
       "        vertical-align: middle;\n",
       "    }\n",
       "\n",
       "    .dataframe tbody tr th {\n",
       "        vertical-align: top;\n",
       "    }\n",
       "\n",
       "    .dataframe thead th {\n",
       "        text-align: right;\n",
       "    }\n",
       "</style>\n",
       "<table border=\"1\" class=\"dataframe\">\n",
       "  <thead>\n",
       "    <tr style=\"text-align: right;\">\n",
       "      <th></th>\n",
       "      <th>Unnamed: 0</th>\n",
       "      <th>ride_id</th>\n",
       "      <th>rideable_type</th>\n",
       "      <th>started_at</th>\n",
       "      <th>ended_at</th>\n",
       "      <th>start_station_name</th>\n",
       "      <th>start_station_id</th>\n",
       "      <th>end_station_name</th>\n",
       "      <th>end_station_id</th>\n",
       "      <th>start_lat</th>\n",
       "      <th>start_lng</th>\n",
       "      <th>end_lat</th>\n",
       "      <th>end_lng</th>\n",
       "      <th>member_casual</th>\n",
       "      <th>start_time</th>\n",
       "      <th>end_time</th>\n",
       "      <th>ride_length</th>\n",
       "      <th>start_date1</th>\n",
       "      <th>week_day</th>\n",
       "    </tr>\n",
       "  </thead>\n",
       "  <tbody>\n",
       "    <tr>\n",
       "      <th>0</th>\n",
       "      <td>75131</td>\n",
       "      <td>6325229942E058A1</td>\n",
       "      <td>classic_bike</td>\n",
       "      <td>2022-02-01 00:03:18</td>\n",
       "      <td>2022-02-01 00:09:37</td>\n",
       "      <td>DuSable Lake Shore Dr &amp; Diversey Pkwy</td>\n",
       "      <td>TA1309000039</td>\n",
       "      <td>Clark St &amp; Wellington Ave</td>\n",
       "      <td>TA1307000136</td>\n",
       "      <td>41.932588</td>\n",
       "      <td>-87.636427</td>\n",
       "      <td>41.936497</td>\n",
       "      <td>-87.647539</td>\n",
       "      <td>casual</td>\n",
       "      <td>2022-02-01 00:03:18</td>\n",
       "      <td>2022-02-01 00:09:37</td>\n",
       "      <td>0 days 00:06:19</td>\n",
       "      <td>2022-02-01 00:00:00</td>\n",
       "      <td>Monday</td>\n",
       "    </tr>\n",
       "    <tr>\n",
       "      <th>1</th>\n",
       "      <td>24395</td>\n",
       "      <td>E7F30D46ACF9071D</td>\n",
       "      <td>electric_bike</td>\n",
       "      <td>2022-02-01 00:04:30</td>\n",
       "      <td>2022-02-01 00:17:12</td>\n",
       "      <td>Broadway &amp; Berwyn Ave</td>\n",
       "      <td>13109</td>\n",
       "      <td>Western Ave &amp; Leland Ave</td>\n",
       "      <td>TA1307000140</td>\n",
       "      <td>41.978369</td>\n",
       "      <td>-87.659778</td>\n",
       "      <td>41.966400</td>\n",
       "      <td>-87.688704</td>\n",
       "      <td>casual</td>\n",
       "      <td>2022-02-01 00:04:30</td>\n",
       "      <td>2022-02-01 00:17:12</td>\n",
       "      <td>0 days 00:12:42</td>\n",
       "      <td>2022-02-01 00:00:00</td>\n",
       "      <td>Monday</td>\n",
       "    </tr>\n",
       "    <tr>\n",
       "      <th>2</th>\n",
       "      <td>5026</td>\n",
       "      <td>C998184FE3DD7937</td>\n",
       "      <td>classic_bike</td>\n",
       "      <td>2022-02-01 00:08:00</td>\n",
       "      <td>2022-02-01 00:47:59</td>\n",
       "      <td>Millennium Park</td>\n",
       "      <td>13008</td>\n",
       "      <td>Michigan Ave &amp; 8th St</td>\n",
       "      <td>623</td>\n",
       "      <td>41.881032</td>\n",
       "      <td>-87.624084</td>\n",
       "      <td>41.872773</td>\n",
       "      <td>-87.623981</td>\n",
       "      <td>casual</td>\n",
       "      <td>2022-02-01 00:08:00</td>\n",
       "      <td>2022-02-01 00:47:59</td>\n",
       "      <td>0 days 00:39:59</td>\n",
       "      <td>2022-02-01 00:00:00</td>\n",
       "      <td>Monday</td>\n",
       "    </tr>\n",
       "    <tr>\n",
       "      <th>3</th>\n",
       "      <td>5027</td>\n",
       "      <td>CD92D9AF505AA077</td>\n",
       "      <td>classic_bike</td>\n",
       "      <td>2022-02-01 00:08:02</td>\n",
       "      <td>2022-02-01 00:47:53</td>\n",
       "      <td>Millennium Park</td>\n",
       "      <td>13008</td>\n",
       "      <td>Michigan Ave &amp; 8th St</td>\n",
       "      <td>623</td>\n",
       "      <td>41.881032</td>\n",
       "      <td>-87.624084</td>\n",
       "      <td>41.872773</td>\n",
       "      <td>-87.623981</td>\n",
       "      <td>casual</td>\n",
       "      <td>2022-02-01 00:08:02</td>\n",
       "      <td>2022-02-01 00:47:53</td>\n",
       "      <td>0 days 00:39:51</td>\n",
       "      <td>2022-02-01 00:00:00</td>\n",
       "      <td>Monday</td>\n",
       "    </tr>\n",
       "    <tr>\n",
       "      <th>4</th>\n",
       "      <td>71374</td>\n",
       "      <td>B37FCA40551A04D1</td>\n",
       "      <td>classic_bike</td>\n",
       "      <td>2022-02-01 00:09:52</td>\n",
       "      <td>2022-02-01 00:52:15</td>\n",
       "      <td>University Ave &amp; 57th St</td>\n",
       "      <td>KA1503000071</td>\n",
       "      <td>Indiana Ave &amp; Roosevelt Rd</td>\n",
       "      <td>SL-005</td>\n",
       "      <td>41.791478</td>\n",
       "      <td>-87.599861</td>\n",
       "      <td>41.867888</td>\n",
       "      <td>-87.623041</td>\n",
       "      <td>member</td>\n",
       "      <td>2022-02-01 00:09:52</td>\n",
       "      <td>2022-02-01 00:52:15</td>\n",
       "      <td>0 days 00:42:23</td>\n",
       "      <td>2022-02-01 00:00:00</td>\n",
       "      <td>Monday</td>\n",
       "    </tr>\n",
       "    <tr>\n",
       "      <th>...</th>\n",
       "      <td>...</td>\n",
       "      <td>...</td>\n",
       "      <td>...</td>\n",
       "      <td>...</td>\n",
       "      <td>...</td>\n",
       "      <td>...</td>\n",
       "      <td>...</td>\n",
       "      <td>...</td>\n",
       "      <td>...</td>\n",
       "      <td>...</td>\n",
       "      <td>...</td>\n",
       "      <td>...</td>\n",
       "      <td>...</td>\n",
       "      <td>...</td>\n",
       "      <td>...</td>\n",
       "      <td>...</td>\n",
       "      <td>...</td>\n",
       "      <td>...</td>\n",
       "      <td>...</td>\n",
       "    </tr>\n",
       "    <tr>\n",
       "      <th>4437511</th>\n",
       "      <td>30637</td>\n",
       "      <td>52CE4BEB32C7AC9B</td>\n",
       "      <td>classic_bike</td>\n",
       "      <td>2023-01-31 23:48:44</td>\n",
       "      <td>2023-01-31 23:51:25</td>\n",
       "      <td>Clark St &amp; Lake St</td>\n",
       "      <td>KA1503000012</td>\n",
       "      <td>LaSalle St &amp; Washington St</td>\n",
       "      <td>13006</td>\n",
       "      <td>41.886021</td>\n",
       "      <td>-87.630876</td>\n",
       "      <td>41.882664</td>\n",
       "      <td>-87.632530</td>\n",
       "      <td>member</td>\n",
       "      <td>2023-01-31 23:48:44</td>\n",
       "      <td>2023-01-31 23:51:25</td>\n",
       "      <td>0 days 00:02:41</td>\n",
       "      <td>2023-01-31 00:00:00</td>\n",
       "      <td>Monday</td>\n",
       "    </tr>\n",
       "    <tr>\n",
       "      <th>4437512</th>\n",
       "      <td>142368</td>\n",
       "      <td>446D7FFE9446C988</td>\n",
       "      <td>classic_bike</td>\n",
       "      <td>2023-01-31 23:49:59</td>\n",
       "      <td>2023-01-31 23:51:25</td>\n",
       "      <td>LaSalle St &amp; Illinois St</td>\n",
       "      <td>13430</td>\n",
       "      <td>Wells St &amp; Hubbard St</td>\n",
       "      <td>TA1307000151</td>\n",
       "      <td>41.890762</td>\n",
       "      <td>-87.631697</td>\n",
       "      <td>41.889906</td>\n",
       "      <td>-87.634266</td>\n",
       "      <td>member</td>\n",
       "      <td>2023-01-31 23:49:59</td>\n",
       "      <td>2023-01-31 23:51:25</td>\n",
       "      <td>0 days 00:01:26</td>\n",
       "      <td>2023-01-31 00:00:00</td>\n",
       "      <td>Monday</td>\n",
       "    </tr>\n",
       "    <tr>\n",
       "      <th>4437513</th>\n",
       "      <td>127709</td>\n",
       "      <td>03C7B7A14C694AEB</td>\n",
       "      <td>classic_bike</td>\n",
       "      <td>2023-01-31 23:51:19</td>\n",
       "      <td>2023-01-31 23:55:33</td>\n",
       "      <td>University Ave &amp; 57th St</td>\n",
       "      <td>KA1503000071</td>\n",
       "      <td>Ellis Ave &amp; 60th St</td>\n",
       "      <td>KA1503000014</td>\n",
       "      <td>41.791478</td>\n",
       "      <td>-87.599861</td>\n",
       "      <td>41.785097</td>\n",
       "      <td>-87.601073</td>\n",
       "      <td>casual</td>\n",
       "      <td>2023-01-31 23:51:19</td>\n",
       "      <td>2023-01-31 23:55:33</td>\n",
       "      <td>0 days 00:04:14</td>\n",
       "      <td>2023-01-31 00:00:00</td>\n",
       "      <td>Monday</td>\n",
       "    </tr>\n",
       "    <tr>\n",
       "      <th>4437514</th>\n",
       "      <td>158931</td>\n",
       "      <td>56FF83E0D18B8AAB</td>\n",
       "      <td>electric_bike</td>\n",
       "      <td>2023-01-31 23:51:57</td>\n",
       "      <td>2023-01-31 23:59:01</td>\n",
       "      <td>Wells St &amp; Hubbard St</td>\n",
       "      <td>TA1307000151</td>\n",
       "      <td>Federal St &amp; Polk St</td>\n",
       "      <td>SL-008</td>\n",
       "      <td>41.889923</td>\n",
       "      <td>-87.634291</td>\n",
       "      <td>41.872078</td>\n",
       "      <td>-87.629544</td>\n",
       "      <td>member</td>\n",
       "      <td>2023-01-31 23:51:57</td>\n",
       "      <td>2023-01-31 23:59:01</td>\n",
       "      <td>0 days 00:07:04</td>\n",
       "      <td>2023-01-31 00:00:00</td>\n",
       "      <td>Monday</td>\n",
       "    </tr>\n",
       "    <tr>\n",
       "      <th>4437515</th>\n",
       "      <td>105397</td>\n",
       "      <td>D915F47D01416C18</td>\n",
       "      <td>classic_bike</td>\n",
       "      <td>2023-01-31 23:53:18</td>\n",
       "      <td>2023-01-31 23:57:38</td>\n",
       "      <td>Paulina St &amp; 18th St</td>\n",
       "      <td>TA1307000159</td>\n",
       "      <td>Racine Ave &amp; 18th St</td>\n",
       "      <td>13164</td>\n",
       "      <td>41.857901</td>\n",
       "      <td>-87.668745</td>\n",
       "      <td>41.858166</td>\n",
       "      <td>-87.656495</td>\n",
       "      <td>member</td>\n",
       "      <td>2023-01-31 23:53:18</td>\n",
       "      <td>2023-01-31 23:57:38</td>\n",
       "      <td>0 days 00:04:20</td>\n",
       "      <td>2023-01-31 00:00:00</td>\n",
       "      <td>Monday</td>\n",
       "    </tr>\n",
       "  </tbody>\n",
       "</table>\n",
       "<p>4437516 rows × 19 columns</p>\n",
       "</div>"
      ],
      "text/plain": [
       "         Unnamed: 0           ride_id  rideable_type           started_at  \\\n",
       "0             75131  6325229942E058A1   classic_bike  2022-02-01 00:03:18   \n",
       "1             24395  E7F30D46ACF9071D  electric_bike  2022-02-01 00:04:30   \n",
       "2              5026  C998184FE3DD7937   classic_bike  2022-02-01 00:08:00   \n",
       "3              5027  CD92D9AF505AA077   classic_bike  2022-02-01 00:08:02   \n",
       "4             71374  B37FCA40551A04D1   classic_bike  2022-02-01 00:09:52   \n",
       "...             ...               ...            ...                  ...   \n",
       "4437511       30637  52CE4BEB32C7AC9B   classic_bike  2023-01-31 23:48:44   \n",
       "4437512      142368  446D7FFE9446C988   classic_bike  2023-01-31 23:49:59   \n",
       "4437513      127709  03C7B7A14C694AEB   classic_bike  2023-01-31 23:51:19   \n",
       "4437514      158931  56FF83E0D18B8AAB  electric_bike  2023-01-31 23:51:57   \n",
       "4437515      105397  D915F47D01416C18   classic_bike  2023-01-31 23:53:18   \n",
       "\n",
       "                    ended_at                     start_station_name  \\\n",
       "0        2022-02-01 00:09:37  DuSable Lake Shore Dr & Diversey Pkwy   \n",
       "1        2022-02-01 00:17:12                  Broadway & Berwyn Ave   \n",
       "2        2022-02-01 00:47:59                        Millennium Park   \n",
       "3        2022-02-01 00:47:53                        Millennium Park   \n",
       "4        2022-02-01 00:52:15               University Ave & 57th St   \n",
       "...                      ...                                    ...   \n",
       "4437511  2023-01-31 23:51:25                     Clark St & Lake St   \n",
       "4437512  2023-01-31 23:51:25               LaSalle St & Illinois St   \n",
       "4437513  2023-01-31 23:55:33               University Ave & 57th St   \n",
       "4437514  2023-01-31 23:59:01                  Wells St & Hubbard St   \n",
       "4437515  2023-01-31 23:57:38                   Paulina St & 18th St   \n",
       "\n",
       "        start_station_id            end_station_name end_station_id  \\\n",
       "0           TA1309000039   Clark St & Wellington Ave   TA1307000136   \n",
       "1                  13109    Western Ave & Leland Ave   TA1307000140   \n",
       "2                  13008       Michigan Ave & 8th St            623   \n",
       "3                  13008       Michigan Ave & 8th St            623   \n",
       "4           KA1503000071  Indiana Ave & Roosevelt Rd         SL-005   \n",
       "...                  ...                         ...            ...   \n",
       "4437511     KA1503000012  LaSalle St & Washington St          13006   \n",
       "4437512            13430       Wells St & Hubbard St   TA1307000151   \n",
       "4437513     KA1503000071         Ellis Ave & 60th St   KA1503000014   \n",
       "4437514     TA1307000151        Federal St & Polk St         SL-008   \n",
       "4437515     TA1307000159        Racine Ave & 18th St          13164   \n",
       "\n",
       "         start_lat  start_lng    end_lat    end_lng member_casual  \\\n",
       "0        41.932588 -87.636427  41.936497 -87.647539        casual   \n",
       "1        41.978369 -87.659778  41.966400 -87.688704        casual   \n",
       "2        41.881032 -87.624084  41.872773 -87.623981        casual   \n",
       "3        41.881032 -87.624084  41.872773 -87.623981        casual   \n",
       "4        41.791478 -87.599861  41.867888 -87.623041        member   \n",
       "...            ...        ...        ...        ...           ...   \n",
       "4437511  41.886021 -87.630876  41.882664 -87.632530        member   \n",
       "4437512  41.890762 -87.631697  41.889906 -87.634266        member   \n",
       "4437513  41.791478 -87.599861  41.785097 -87.601073        casual   \n",
       "4437514  41.889923 -87.634291  41.872078 -87.629544        member   \n",
       "4437515  41.857901 -87.668745  41.858166 -87.656495        member   \n",
       "\n",
       "                  start_time             end_time      ride_length  \\\n",
       "0        2022-02-01 00:03:18  2022-02-01 00:09:37  0 days 00:06:19   \n",
       "1        2022-02-01 00:04:30  2022-02-01 00:17:12  0 days 00:12:42   \n",
       "2        2022-02-01 00:08:00  2022-02-01 00:47:59  0 days 00:39:59   \n",
       "3        2022-02-01 00:08:02  2022-02-01 00:47:53  0 days 00:39:51   \n",
       "4        2022-02-01 00:09:52  2022-02-01 00:52:15  0 days 00:42:23   \n",
       "...                      ...                  ...              ...   \n",
       "4437511  2023-01-31 23:48:44  2023-01-31 23:51:25  0 days 00:02:41   \n",
       "4437512  2023-01-31 23:49:59  2023-01-31 23:51:25  0 days 00:01:26   \n",
       "4437513  2023-01-31 23:51:19  2023-01-31 23:55:33  0 days 00:04:14   \n",
       "4437514  2023-01-31 23:51:57  2023-01-31 23:59:01  0 days 00:07:04   \n",
       "4437515  2023-01-31 23:53:18  2023-01-31 23:57:38  0 days 00:04:20   \n",
       "\n",
       "                 start_date1 week_day  \n",
       "0        2022-02-01 00:00:00   Monday  \n",
       "1        2022-02-01 00:00:00   Monday  \n",
       "2        2022-02-01 00:00:00   Monday  \n",
       "3        2022-02-01 00:00:00   Monday  \n",
       "4        2022-02-01 00:00:00   Monday  \n",
       "...                      ...      ...  \n",
       "4437511  2023-01-31 00:00:00   Monday  \n",
       "4437512  2023-01-31 00:00:00   Monday  \n",
       "4437513  2023-01-31 00:00:00   Monday  \n",
       "4437514  2023-01-31 00:00:00   Monday  \n",
       "4437515  2023-01-31 00:00:00   Monday  \n",
       "\n",
       "[4437516 rows x 19 columns]"
      ]
     },
     "execution_count": 17,
     "metadata": {},
     "output_type": "execute_result"
    }
   ],
   "source": [
    "# Print cleaned dataframe\n",
    "cleaned_file"
   ]
  },
  {
   "cell_type": "code",
   "execution_count": 18,
   "id": "3a333153",
   "metadata": {},
   "outputs": [
    {
     "data": {
      "text/plain": [
       "0          0.011779\n",
       "1          0.031305\n",
       "2          0.008259\n",
       "3          0.008259\n",
       "4          0.079849\n",
       "             ...   \n",
       "4437511    0.003742\n",
       "4437512    0.002708\n",
       "4437513    0.006495\n",
       "4437514    0.018466\n",
       "4437515    0.012253\n",
       "Name: distance, Length: 4437516, dtype: float64"
      ]
     },
     "execution_count": 18,
     "metadata": {},
     "output_type": "execute_result"
    }
   ],
   "source": [
    "# Calculate distance between start and end point.\n",
    "cleaned_file[\"x\"] = (cleaned_file[\"end_lat\"] - cleaned_file[\"start_lat\"])**2\n",
    "cleaned_file[\"y\"] = (cleaned_file[\"end_lng\"] - cleaned_file[\"start_lng\"])**2\n",
    "cleaned_file[\"distance\"] = (cleaned_file[\"x\"] + cleaned_file[\"y\"])**(1/2)\n",
    "cleaned_file[\"distance\"]"
   ]
  },
  {
   "cell_type": "code",
   "execution_count": 19,
   "id": "11fe8cc2",
   "metadata": {},
   "outputs": [],
   "source": [
    "# Extract year and month from start date column\n",
    "cleaned_file['year'] = pd.DatetimeIndex(cleaned_file[\"start_date1\"]).year\n",
    "cleaned_file['month'] = pd.DatetimeIndex(cleaned_file[\"start_date1\"]).month"
   ]
  },
  {
   "cell_type": "code",
   "execution_count": 20,
   "id": "e060fbb6",
   "metadata": {},
   "outputs": [],
   "source": [
    "# Convert object datatype to timedelta\n",
    "cleaned_file[\"ride_len\"] = pd.to_timedelta(cleaned_file[\"ride_length\"])"
   ]
  },
  {
   "cell_type": "code",
   "execution_count": 21,
   "id": "8a8dfd74",
   "metadata": {},
   "outputs": [
    {
     "data": {
      "text/html": [
       "<div>\n",
       "<style scoped>\n",
       "    .dataframe tbody tr th:only-of-type {\n",
       "        vertical-align: middle;\n",
       "    }\n",
       "\n",
       "    .dataframe tbody tr th {\n",
       "        vertical-align: top;\n",
       "    }\n",
       "\n",
       "    .dataframe thead th {\n",
       "        text-align: right;\n",
       "    }\n",
       "</style>\n",
       "<table border=\"1\" class=\"dataframe\">\n",
       "  <thead>\n",
       "    <tr style=\"text-align: right;\">\n",
       "      <th></th>\n",
       "      <th>Unnamed: 0</th>\n",
       "      <th>ride_id</th>\n",
       "      <th>rideable_type</th>\n",
       "      <th>started_at</th>\n",
       "      <th>ended_at</th>\n",
       "      <th>start_station_name</th>\n",
       "      <th>start_station_id</th>\n",
       "      <th>end_station_name</th>\n",
       "      <th>end_station_id</th>\n",
       "      <th>start_lat</th>\n",
       "      <th>...</th>\n",
       "      <th>end_time</th>\n",
       "      <th>ride_length</th>\n",
       "      <th>start_date1</th>\n",
       "      <th>week_day</th>\n",
       "      <th>x</th>\n",
       "      <th>y</th>\n",
       "      <th>distance</th>\n",
       "      <th>year</th>\n",
       "      <th>month</th>\n",
       "      <th>ride_len</th>\n",
       "    </tr>\n",
       "  </thead>\n",
       "  <tbody>\n",
       "    <tr>\n",
       "      <th>0</th>\n",
       "      <td>75131</td>\n",
       "      <td>6325229942E058A1</td>\n",
       "      <td>classic_bike</td>\n",
       "      <td>2022-02-01 00:03:18</td>\n",
       "      <td>2022-02-01 00:09:37</td>\n",
       "      <td>DuSable Lake Shore Dr &amp; Diversey Pkwy</td>\n",
       "      <td>TA1309000039</td>\n",
       "      <td>Clark St &amp; Wellington Ave</td>\n",
       "      <td>TA1307000136</td>\n",
       "      <td>41.932588</td>\n",
       "      <td>...</td>\n",
       "      <td>2022-02-01 00:09:37</td>\n",
       "      <td>0 days 00:06:19</td>\n",
       "      <td>2022-02-01 00:00:00</td>\n",
       "      <td>Monday</td>\n",
       "      <td>1.527889e-05</td>\n",
       "      <td>1.234689e-04</td>\n",
       "      <td>0.011779</td>\n",
       "      <td>2022</td>\n",
       "      <td>2</td>\n",
       "      <td>0 days 00:06:19</td>\n",
       "    </tr>\n",
       "    <tr>\n",
       "      <th>1</th>\n",
       "      <td>24395</td>\n",
       "      <td>E7F30D46ACF9071D</td>\n",
       "      <td>electric_bike</td>\n",
       "      <td>2022-02-01 00:04:30</td>\n",
       "      <td>2022-02-01 00:17:12</td>\n",
       "      <td>Broadway &amp; Berwyn Ave</td>\n",
       "      <td>13109</td>\n",
       "      <td>Western Ave &amp; Leland Ave</td>\n",
       "      <td>TA1307000140</td>\n",
       "      <td>41.978369</td>\n",
       "      <td>...</td>\n",
       "      <td>2022-02-01 00:17:12</td>\n",
       "      <td>0 days 00:12:42</td>\n",
       "      <td>2022-02-01 00:00:00</td>\n",
       "      <td>Monday</td>\n",
       "      <td>1.432617e-04</td>\n",
       "      <td>8.367298e-04</td>\n",
       "      <td>0.031305</td>\n",
       "      <td>2022</td>\n",
       "      <td>2</td>\n",
       "      <td>0 days 00:12:42</td>\n",
       "    </tr>\n",
       "    <tr>\n",
       "      <th>2</th>\n",
       "      <td>5026</td>\n",
       "      <td>C998184FE3DD7937</td>\n",
       "      <td>classic_bike</td>\n",
       "      <td>2022-02-01 00:08:00</td>\n",
       "      <td>2022-02-01 00:47:59</td>\n",
       "      <td>Millennium Park</td>\n",
       "      <td>13008</td>\n",
       "      <td>Michigan Ave &amp; 8th St</td>\n",
       "      <td>623</td>\n",
       "      <td>41.881032</td>\n",
       "      <td>...</td>\n",
       "      <td>2022-02-01 00:47:59</td>\n",
       "      <td>0 days 00:39:59</td>\n",
       "      <td>2022-02-01 00:00:00</td>\n",
       "      <td>Monday</td>\n",
       "      <td>6.820613e-05</td>\n",
       "      <td>1.067502e-08</td>\n",
       "      <td>0.008259</td>\n",
       "      <td>2022</td>\n",
       "      <td>2</td>\n",
       "      <td>0 days 00:39:59</td>\n",
       "    </tr>\n",
       "    <tr>\n",
       "      <th>3</th>\n",
       "      <td>5027</td>\n",
       "      <td>CD92D9AF505AA077</td>\n",
       "      <td>classic_bike</td>\n",
       "      <td>2022-02-01 00:08:02</td>\n",
       "      <td>2022-02-01 00:47:53</td>\n",
       "      <td>Millennium Park</td>\n",
       "      <td>13008</td>\n",
       "      <td>Michigan Ave &amp; 8th St</td>\n",
       "      <td>623</td>\n",
       "      <td>41.881032</td>\n",
       "      <td>...</td>\n",
       "      <td>2022-02-01 00:47:53</td>\n",
       "      <td>0 days 00:39:51</td>\n",
       "      <td>2022-02-01 00:00:00</td>\n",
       "      <td>Monday</td>\n",
       "      <td>6.820613e-05</td>\n",
       "      <td>1.067502e-08</td>\n",
       "      <td>0.008259</td>\n",
       "      <td>2022</td>\n",
       "      <td>2</td>\n",
       "      <td>0 days 00:39:51</td>\n",
       "    </tr>\n",
       "    <tr>\n",
       "      <th>4</th>\n",
       "      <td>71374</td>\n",
       "      <td>B37FCA40551A04D1</td>\n",
       "      <td>classic_bike</td>\n",
       "      <td>2022-02-01 00:09:52</td>\n",
       "      <td>2022-02-01 00:52:15</td>\n",
       "      <td>University Ave &amp; 57th St</td>\n",
       "      <td>KA1503000071</td>\n",
       "      <td>Indiana Ave &amp; Roosevelt Rd</td>\n",
       "      <td>SL-005</td>\n",
       "      <td>41.791478</td>\n",
       "      <td>...</td>\n",
       "      <td>2022-02-01 00:52:15</td>\n",
       "      <td>0 days 00:42:23</td>\n",
       "      <td>2022-02-01 00:00:00</td>\n",
       "      <td>Monday</td>\n",
       "      <td>5.838488e-03</td>\n",
       "      <td>5.373124e-04</td>\n",
       "      <td>0.079849</td>\n",
       "      <td>2022</td>\n",
       "      <td>2</td>\n",
       "      <td>0 days 00:42:23</td>\n",
       "    </tr>\n",
       "    <tr>\n",
       "      <th>...</th>\n",
       "      <td>...</td>\n",
       "      <td>...</td>\n",
       "      <td>...</td>\n",
       "      <td>...</td>\n",
       "      <td>...</td>\n",
       "      <td>...</td>\n",
       "      <td>...</td>\n",
       "      <td>...</td>\n",
       "      <td>...</td>\n",
       "      <td>...</td>\n",
       "      <td>...</td>\n",
       "      <td>...</td>\n",
       "      <td>...</td>\n",
       "      <td>...</td>\n",
       "      <td>...</td>\n",
       "      <td>...</td>\n",
       "      <td>...</td>\n",
       "      <td>...</td>\n",
       "      <td>...</td>\n",
       "      <td>...</td>\n",
       "      <td>...</td>\n",
       "    </tr>\n",
       "    <tr>\n",
       "      <th>4437511</th>\n",
       "      <td>30637</td>\n",
       "      <td>52CE4BEB32C7AC9B</td>\n",
       "      <td>classic_bike</td>\n",
       "      <td>2023-01-31 23:48:44</td>\n",
       "      <td>2023-01-31 23:51:25</td>\n",
       "      <td>Clark St &amp; Lake St</td>\n",
       "      <td>KA1503000012</td>\n",
       "      <td>LaSalle St &amp; Washington St</td>\n",
       "      <td>13006</td>\n",
       "      <td>41.886021</td>\n",
       "      <td>...</td>\n",
       "      <td>2023-01-31 23:51:25</td>\n",
       "      <td>0 days 00:02:41</td>\n",
       "      <td>2023-01-31 00:00:00</td>\n",
       "      <td>Monday</td>\n",
       "      <td>1.126829e-05</td>\n",
       "      <td>2.735523e-06</td>\n",
       "      <td>0.003742</td>\n",
       "      <td>2023</td>\n",
       "      <td>1</td>\n",
       "      <td>0 days 00:02:41</td>\n",
       "    </tr>\n",
       "    <tr>\n",
       "      <th>4437512</th>\n",
       "      <td>142368</td>\n",
       "      <td>446D7FFE9446C988</td>\n",
       "      <td>classic_bike</td>\n",
       "      <td>2023-01-31 23:49:59</td>\n",
       "      <td>2023-01-31 23:51:25</td>\n",
       "      <td>LaSalle St &amp; Illinois St</td>\n",
       "      <td>13430</td>\n",
       "      <td>Wells St &amp; Hubbard St</td>\n",
       "      <td>TA1307000151</td>\n",
       "      <td>41.890762</td>\n",
       "      <td>...</td>\n",
       "      <td>2023-01-31 23:51:25</td>\n",
       "      <td>0 days 00:01:26</td>\n",
       "      <td>2023-01-31 00:00:00</td>\n",
       "      <td>Monday</td>\n",
       "      <td>7.327360e-07</td>\n",
       "      <td>6.599761e-06</td>\n",
       "      <td>0.002708</td>\n",
       "      <td>2023</td>\n",
       "      <td>1</td>\n",
       "      <td>0 days 00:01:26</td>\n",
       "    </tr>\n",
       "    <tr>\n",
       "      <th>4437513</th>\n",
       "      <td>127709</td>\n",
       "      <td>03C7B7A14C694AEB</td>\n",
       "      <td>classic_bike</td>\n",
       "      <td>2023-01-31 23:51:19</td>\n",
       "      <td>2023-01-31 23:55:33</td>\n",
       "      <td>University Ave &amp; 57th St</td>\n",
       "      <td>KA1503000071</td>\n",
       "      <td>Ellis Ave &amp; 60th St</td>\n",
       "      <td>KA1503000014</td>\n",
       "      <td>41.791478</td>\n",
       "      <td>...</td>\n",
       "      <td>2023-01-31 23:55:33</td>\n",
       "      <td>0 days 00:04:14</td>\n",
       "      <td>2023-01-31 00:00:00</td>\n",
       "      <td>Monday</td>\n",
       "      <td>4.071529e-05</td>\n",
       "      <td>1.468364e-06</td>\n",
       "      <td>0.006495</td>\n",
       "      <td>2023</td>\n",
       "      <td>1</td>\n",
       "      <td>0 days 00:04:14</td>\n",
       "    </tr>\n",
       "    <tr>\n",
       "      <th>4437514</th>\n",
       "      <td>158931</td>\n",
       "      <td>56FF83E0D18B8AAB</td>\n",
       "      <td>electric_bike</td>\n",
       "      <td>2023-01-31 23:51:57</td>\n",
       "      <td>2023-01-31 23:59:01</td>\n",
       "      <td>Wells St &amp; Hubbard St</td>\n",
       "      <td>TA1307000151</td>\n",
       "      <td>Federal St &amp; Polk St</td>\n",
       "      <td>SL-008</td>\n",
       "      <td>41.889923</td>\n",
       "      <td>...</td>\n",
       "      <td>2023-01-31 23:59:01</td>\n",
       "      <td>0 days 00:07:04</td>\n",
       "      <td>2023-01-31 00:00:00</td>\n",
       "      <td>Monday</td>\n",
       "      <td>3.184733e-04</td>\n",
       "      <td>2.253214e-05</td>\n",
       "      <td>0.018466</td>\n",
       "      <td>2023</td>\n",
       "      <td>1</td>\n",
       "      <td>0 days 00:07:04</td>\n",
       "    </tr>\n",
       "    <tr>\n",
       "      <th>4437515</th>\n",
       "      <td>105397</td>\n",
       "      <td>D915F47D01416C18</td>\n",
       "      <td>classic_bike</td>\n",
       "      <td>2023-01-31 23:53:18</td>\n",
       "      <td>2023-01-31 23:57:38</td>\n",
       "      <td>Paulina St &amp; 18th St</td>\n",
       "      <td>TA1307000159</td>\n",
       "      <td>Racine Ave &amp; 18th St</td>\n",
       "      <td>13164</td>\n",
       "      <td>41.857901</td>\n",
       "      <td>...</td>\n",
       "      <td>2023-01-31 23:57:38</td>\n",
       "      <td>0 days 00:04:20</td>\n",
       "      <td>2023-01-31 00:00:00</td>\n",
       "      <td>Monday</td>\n",
       "      <td>7.022500e-08</td>\n",
       "      <td>1.500625e-04</td>\n",
       "      <td>0.012253</td>\n",
       "      <td>2023</td>\n",
       "      <td>1</td>\n",
       "      <td>0 days 00:04:20</td>\n",
       "    </tr>\n",
       "  </tbody>\n",
       "</table>\n",
       "<p>4437516 rows × 25 columns</p>\n",
       "</div>"
      ],
      "text/plain": [
       "         Unnamed: 0           ride_id  rideable_type           started_at  \\\n",
       "0             75131  6325229942E058A1   classic_bike  2022-02-01 00:03:18   \n",
       "1             24395  E7F30D46ACF9071D  electric_bike  2022-02-01 00:04:30   \n",
       "2              5026  C998184FE3DD7937   classic_bike  2022-02-01 00:08:00   \n",
       "3              5027  CD92D9AF505AA077   classic_bike  2022-02-01 00:08:02   \n",
       "4             71374  B37FCA40551A04D1   classic_bike  2022-02-01 00:09:52   \n",
       "...             ...               ...            ...                  ...   \n",
       "4437511       30637  52CE4BEB32C7AC9B   classic_bike  2023-01-31 23:48:44   \n",
       "4437512      142368  446D7FFE9446C988   classic_bike  2023-01-31 23:49:59   \n",
       "4437513      127709  03C7B7A14C694AEB   classic_bike  2023-01-31 23:51:19   \n",
       "4437514      158931  56FF83E0D18B8AAB  electric_bike  2023-01-31 23:51:57   \n",
       "4437515      105397  D915F47D01416C18   classic_bike  2023-01-31 23:53:18   \n",
       "\n",
       "                    ended_at                     start_station_name  \\\n",
       "0        2022-02-01 00:09:37  DuSable Lake Shore Dr & Diversey Pkwy   \n",
       "1        2022-02-01 00:17:12                  Broadway & Berwyn Ave   \n",
       "2        2022-02-01 00:47:59                        Millennium Park   \n",
       "3        2022-02-01 00:47:53                        Millennium Park   \n",
       "4        2022-02-01 00:52:15               University Ave & 57th St   \n",
       "...                      ...                                    ...   \n",
       "4437511  2023-01-31 23:51:25                     Clark St & Lake St   \n",
       "4437512  2023-01-31 23:51:25               LaSalle St & Illinois St   \n",
       "4437513  2023-01-31 23:55:33               University Ave & 57th St   \n",
       "4437514  2023-01-31 23:59:01                  Wells St & Hubbard St   \n",
       "4437515  2023-01-31 23:57:38                   Paulina St & 18th St   \n",
       "\n",
       "        start_station_id            end_station_name end_station_id  \\\n",
       "0           TA1309000039   Clark St & Wellington Ave   TA1307000136   \n",
       "1                  13109    Western Ave & Leland Ave   TA1307000140   \n",
       "2                  13008       Michigan Ave & 8th St            623   \n",
       "3                  13008       Michigan Ave & 8th St            623   \n",
       "4           KA1503000071  Indiana Ave & Roosevelt Rd         SL-005   \n",
       "...                  ...                         ...            ...   \n",
       "4437511     KA1503000012  LaSalle St & Washington St          13006   \n",
       "4437512            13430       Wells St & Hubbard St   TA1307000151   \n",
       "4437513     KA1503000071         Ellis Ave & 60th St   KA1503000014   \n",
       "4437514     TA1307000151        Federal St & Polk St         SL-008   \n",
       "4437515     TA1307000159        Racine Ave & 18th St          13164   \n",
       "\n",
       "         start_lat  ...             end_time      ride_length  \\\n",
       "0        41.932588  ...  2022-02-01 00:09:37  0 days 00:06:19   \n",
       "1        41.978369  ...  2022-02-01 00:17:12  0 days 00:12:42   \n",
       "2        41.881032  ...  2022-02-01 00:47:59  0 days 00:39:59   \n",
       "3        41.881032  ...  2022-02-01 00:47:53  0 days 00:39:51   \n",
       "4        41.791478  ...  2022-02-01 00:52:15  0 days 00:42:23   \n",
       "...            ...  ...                  ...              ...   \n",
       "4437511  41.886021  ...  2023-01-31 23:51:25  0 days 00:02:41   \n",
       "4437512  41.890762  ...  2023-01-31 23:51:25  0 days 00:01:26   \n",
       "4437513  41.791478  ...  2023-01-31 23:55:33  0 days 00:04:14   \n",
       "4437514  41.889923  ...  2023-01-31 23:59:01  0 days 00:07:04   \n",
       "4437515  41.857901  ...  2023-01-31 23:57:38  0 days 00:04:20   \n",
       "\n",
       "                 start_date1 week_day             x             y  distance  \\\n",
       "0        2022-02-01 00:00:00   Monday  1.527889e-05  1.234689e-04  0.011779   \n",
       "1        2022-02-01 00:00:00   Monday  1.432617e-04  8.367298e-04  0.031305   \n",
       "2        2022-02-01 00:00:00   Monday  6.820613e-05  1.067502e-08  0.008259   \n",
       "3        2022-02-01 00:00:00   Monday  6.820613e-05  1.067502e-08  0.008259   \n",
       "4        2022-02-01 00:00:00   Monday  5.838488e-03  5.373124e-04  0.079849   \n",
       "...                      ...      ...           ...           ...       ...   \n",
       "4437511  2023-01-31 00:00:00   Monday  1.126829e-05  2.735523e-06  0.003742   \n",
       "4437512  2023-01-31 00:00:00   Monday  7.327360e-07  6.599761e-06  0.002708   \n",
       "4437513  2023-01-31 00:00:00   Monday  4.071529e-05  1.468364e-06  0.006495   \n",
       "4437514  2023-01-31 00:00:00   Monday  3.184733e-04  2.253214e-05  0.018466   \n",
       "4437515  2023-01-31 00:00:00   Monday  7.022500e-08  1.500625e-04  0.012253   \n",
       "\n",
       "         year month        ride_len  \n",
       "0        2022     2 0 days 00:06:19  \n",
       "1        2022     2 0 days 00:12:42  \n",
       "2        2022     2 0 days 00:39:59  \n",
       "3        2022     2 0 days 00:39:51  \n",
       "4        2022     2 0 days 00:42:23  \n",
       "...       ...   ...             ...  \n",
       "4437511  2023     1 0 days 00:02:41  \n",
       "4437512  2023     1 0 days 00:01:26  \n",
       "4437513  2023     1 0 days 00:04:14  \n",
       "4437514  2023     1 0 days 00:07:04  \n",
       "4437515  2023     1 0 days 00:04:20  \n",
       "\n",
       "[4437516 rows x 25 columns]"
      ]
     },
     "execution_count": 21,
     "metadata": {},
     "output_type": "execute_result"
    }
   ],
   "source": [
    "# Print cleaned dataframe\n",
    "cleaned_file"
   ]
  },
  {
   "cell_type": "code",
   "execution_count": 22,
   "id": "b98895e5",
   "metadata": {},
   "outputs": [
    {
     "data": {
      "text/plain": [
       "Unnamed: 0            0\n",
       "ride_id               0\n",
       "rideable_type         0\n",
       "started_at            0\n",
       "ended_at              0\n",
       "start_station_name    0\n",
       "start_station_id      0\n",
       "end_station_name      0\n",
       "end_station_id        0\n",
       "start_lat             0\n",
       "start_lng             0\n",
       "end_lat               0\n",
       "end_lng               0\n",
       "member_casual         0\n",
       "start_time            0\n",
       "end_time              0\n",
       "ride_length           0\n",
       "start_date1           0\n",
       "week_day              0\n",
       "x                     0\n",
       "y                     0\n",
       "distance              0\n",
       "year                  0\n",
       "month                 0\n",
       "ride_len              0\n",
       "dtype: int64"
      ]
     },
     "execution_count": 22,
     "metadata": {},
     "output_type": "execute_result"
    }
   ],
   "source": [
    "# Check if there are null values in dataframe\n",
    "cleaned_file.isnull().sum()"
   ]
  },
  {
   "cell_type": "code",
   "execution_count": 23,
   "id": "b8af3c72",
   "metadata": {},
   "outputs": [
    {
     "data": {
      "text/plain": [
       "False"
      ]
     },
     "execution_count": 23,
     "metadata": {},
     "output_type": "execute_result"
    }
   ],
   "source": [
    "# Check if there are any duplicate values in dataframe\n",
    "cleaned_file.duplicated().any()"
   ]
  },
  {
   "cell_type": "markdown",
   "id": "d632c5c0",
   "metadata": {},
   "source": [
    "# Analysis"
   ]
  },
  {
   "cell_type": "code",
   "execution_count": 25,
   "id": "2d4ad900",
   "metadata": {},
   "outputs": [
    {
     "data": {
      "text/plain": [
       "Timedelta('0 days 00:16:57.928854566')"
      ]
     },
     "execution_count": 25,
     "metadata": {},
     "output_type": "execute_result"
    }
   ],
   "source": [
    "# Calculate mean of ride length of all types of users\n",
    "mean_ride_length = cleaned_file[\"ride_len\"].mean()\n",
    "mean_ride_length"
   ]
  },
  {
   "cell_type": "code",
   "execution_count": 26,
   "id": "7a9cc89a",
   "metadata": {},
   "outputs": [
    {
     "data": {
      "text/plain": [
       "Timedelta('23 days 20:34:04')"
      ]
     },
     "execution_count": 26,
     "metadata": {},
     "output_type": "execute_result"
    }
   ],
   "source": [
    "# Calculate the max ride_length of all types of users\n",
    "max_ride_length = cleaned_file[\"ride_len\"].max()\n",
    "max_ride_length"
   ]
  },
  {
   "cell_type": "code",
   "execution_count": 27,
   "id": "c1a6ba46",
   "metadata": {},
   "outputs": [
    {
     "data": {
      "text/plain": [
       "Timedelta('0 days 00:12:23.852545025')"
      ]
     },
     "execution_count": 27,
     "metadata": {},
     "output_type": "execute_result"
    }
   ],
   "source": [
    "# Calculate mean ride length for member\n",
    "mean_ride_length_member = cleaned_file[cleaned_file[\"member_casual\"] == \"member\"]\n",
    "mean_ride_length_member = mean_ride_length_member[\"ride_len\"].mean()\n",
    "mean_ride_length_member"
   ]
  },
  {
   "cell_type": "code",
   "execution_count": 28,
   "id": "cc021ad7",
   "metadata": {},
   "outputs": [
    {
     "data": {
      "text/plain": [
       "Timedelta('0 days 00:23:48.966663568')"
      ]
     },
     "execution_count": 28,
     "metadata": {},
     "output_type": "execute_result"
    }
   ],
   "source": [
    "# Calculate mean ride length for casual riders\n",
    "mean_ride_length_casual = cleaned_file[cleaned_file[\"member_casual\"] == \"casual\"]\n",
    "mean_ride_length_casual = mean_ride_length_casual[\"ride_len\"].mean()\n",
    "mean_ride_length_casual"
   ]
  },
  {
   "cell_type": "code",
   "execution_count": 29,
   "id": "dd388ed5",
   "metadata": {},
   "outputs": [
    {
     "data": {
      "text/plain": [
       "Timedelta('1 days 00:57:52')"
      ]
     },
     "execution_count": 29,
     "metadata": {},
     "output_type": "execute_result"
    }
   ],
   "source": [
    "# Calculate max ride length for member\n",
    "max_ride_length_member = cleaned_file[cleaned_file[\"member_casual\"] == \"member\"]\n",
    "max_ride_length_member = max_ride_length_member[\"ride_len\"].max()\n",
    "max_ride_length_member"
   ]
  },
  {
   "cell_type": "code",
   "execution_count": 30,
   "id": "0da44737",
   "metadata": {},
   "outputs": [
    {
     "data": {
      "text/plain": [
       "Timedelta('23 days 20:34:04')"
      ]
     },
     "execution_count": 30,
     "metadata": {},
     "output_type": "execute_result"
    }
   ],
   "source": [
    "# Calculate max ride length for casual riders\n",
    "max_ride_length_casual = cleaned_file[cleaned_file[\"member_casual\"] == \"casual\"]\n",
    "max_ride_length_casual = max_ride_length_casual[\"ride_len\"].max()\n",
    "max_ride_length_casual"
   ]
  },
  {
   "cell_type": "code",
   "execution_count": 31,
   "id": "db79acf1",
   "metadata": {},
   "outputs": [
    {
     "data": {
      "text/plain": [
       "0    Friday\n",
       "dtype: object"
      ]
     },
     "execution_count": 31,
     "metadata": {},
     "output_type": "execute_result"
    }
   ],
   "source": [
    "# Calculate the mode of week_day for all types of users\n",
    "mode_week_day = cleaned_file[\"week_day\"].mode()\n",
    "mode_week_day"
   ]
  },
  {
   "cell_type": "code",
   "execution_count": 32,
   "id": "e763914f",
   "metadata": {},
   "outputs": [
    {
     "data": {
      "text/plain": [
       "0    Monday\n",
       "dtype: object"
      ]
     },
     "execution_count": 32,
     "metadata": {},
     "output_type": "execute_result"
    }
   ],
   "source": [
    "# Calculate mode of week_day for member\n",
    "mode_week_day_member = cleaned_file[cleaned_file[\"member_casual\"] == \"member\"]\n",
    "mode_week_day_member = mode_week_day_member[\"week_day\"].mode()\n",
    "mode_week_day_member"
   ]
  },
  {
   "cell_type": "code",
   "execution_count": 33,
   "id": "c2e05379",
   "metadata": {},
   "outputs": [
    {
     "data": {
      "text/plain": [
       "0    Friday\n",
       "dtype: object"
      ]
     },
     "execution_count": 33,
     "metadata": {},
     "output_type": "execute_result"
    }
   ],
   "source": [
    "# Calculate mode of week_day for casual\n",
    "mode_week_day_casual = cleaned_file[cleaned_file[\"member_casual\"] == \"casual\"]\n",
    "mode_week_day_casual = mode_week_day_casual[\"week_day\"].mode()\n",
    "mode_week_day_casual"
   ]
  },
  {
   "cell_type": "code",
   "execution_count": 34,
   "id": "6b84f752",
   "metadata": {},
   "outputs": [
    {
     "data": {
      "text/plain": [
       "week_day\n",
       "0    595989\n",
       "1    623978\n",
       "2    628659\n",
       "3    654387\n",
       "4    617434\n",
       "5    709618\n",
       "6    607451\n",
       "Name: ride_id, dtype: int64"
      ]
     },
     "execution_count": 34,
     "metadata": {},
     "output_type": "execute_result"
    }
   ],
   "source": [
    "# Calculate the number of rides for users by week_day by adding Count of ride_id to Values\n",
    "dict1 = {\"Sunday\": 0, \"Monday\": 1, \"Tuesday\": 2, \"Wednesday\": 3, \"Thursday\": 4, \"Friday\":5, \"Saturday\": 6}\n",
    "cleaned_file['week_day'] = cleaned_file['week_day'].apply(lambda y: dict1[y])\n",
    "\n",
    "count_users_week_day = cleaned_file.groupby('week_day')['ride_id'].count()\n",
    "count_users_week_day = count_users_week_day.sort_index()\n",
    "count_users_week_day"
   ]
  },
  {
   "cell_type": "code",
   "execution_count": 35,
   "id": "22ceee10",
   "metadata": {},
   "outputs": [
    {
     "data": {
      "text/plain": [
       "week_day\n",
       "0    382630\n",
       "1    424055\n",
       "2    422212\n",
       "3    422470\n",
       "4    366732\n",
       "5    341211\n",
       "6    303001\n",
       "Name: ride_id, dtype: int64"
      ]
     },
     "execution_count": 35,
     "metadata": {},
     "output_type": "execute_result"
    }
   ],
   "source": [
    "# Calculate the number of rides for member by week_day by adding Count of ride_id to Values\n",
    "count_member_week_day = cleaned_file[cleaned_file[\"member_casual\"] == \"member\"].groupby('week_day')['ride_id'].count()\n",
    "count_member_week_day"
   ]
  },
  {
   "cell_type": "code",
   "execution_count": 36,
   "id": "671faf55",
   "metadata": {},
   "outputs": [
    {
     "data": {
      "text/plain": [
       "week_day\n",
       "0    213359\n",
       "1    199923\n",
       "2    206447\n",
       "3    231917\n",
       "4    250702\n",
       "5    368407\n",
       "6    304450\n",
       "Name: ride_id, dtype: int64"
      ]
     },
     "execution_count": 36,
     "metadata": {},
     "output_type": "execute_result"
    }
   ],
   "source": [
    "# Calculate the number of rides for casual by week_day by adding Count of ride_id to Values\n",
    "count_casual_week_day = cleaned_file[cleaned_file[\"member_casual\"] == \"casual\"].groupby('week_day')['ride_id'].count()\n",
    "count_casual_week_day"
   ]
  },
  {
   "cell_type": "code",
   "execution_count": 37,
   "id": "68614659",
   "metadata": {},
   "outputs": [
    {
     "data": {
      "image/png": "[encoded data removed]",
      "text/plain": [
       "<Figure size 576x432 with 1 Axes>"
      ]
     },
     "metadata": {
      "needs_background": "light"
     },
     "output_type": "display_data"
    }
   ],
   "source": [
    "# Plot graph of Weekday Vs Number Of Rides\n",
    "plt.figure(figsize=(8,6))\n",
    "plt.plot(count_users_week_day.index, count_users_week_day.values)\n",
    "plt.plot(count_member_week_day.index, count_member_week_day.values)\n",
    "plt.plot(count_casual_week_day.index, count_casual_week_day.values)\n",
    "plt.title(\"Number of rides by weekday for different users\")\n",
    "plt.legend([\"Total Rides\", \"Member Rides\", \"Casual Rides\"])\n",
    "labels = [\"Sunday\", \"Monday\", \"Tuesday\", \"Wednesday\", \"Thursday\", \"Friday\", \"Saturday\"]\n",
    "plt.xticks(count_casual_week_day.index, labels)\n",
    "plt.show()"
   ]
  },
  {
   "cell_type": "code",
   "execution_count": 38,
   "id": "1a65d2c6",
   "metadata": {},
   "outputs": [
    {
     "data": {
      "text/plain": [
       "week_day\n",
       "0   0 days 00:16:30.398696955\n",
       "1   0 days 00:14:47.285437948\n",
       "2   0 days 00:14:39.187899958\n",
       "3   0 days 00:15:13.202325229\n",
       "4   0 days 00:16:15.599714301\n",
       "5   0 days 00:20:31.879060283\n",
       "6   0 days 00:20:28.631036906\n",
       "Name: ride_len, dtype: timedelta64[ns]"
      ]
     },
     "execution_count": 38,
     "metadata": {},
     "output_type": "execute_result"
    }
   ],
   "source": [
    "# Calculate the average ride_length for users by week_day\n",
    "user_avg_ride_len_week_day = cleaned_file.groupby(\"week_day\")['ride_len'].mean(numeric_only=False)\n",
    "user_avg_ride_len_week_day"
   ]
  },
  {
   "cell_type": "code",
   "execution_count": 39,
   "id": "b1ba3b2f",
   "metadata": {},
   "outputs": [
    {
     "data": {
      "text/plain": [
       "week_day\n",
       "0   0 days 00:11:58.042213104\n",
       "1   0 days 00:11:43.384794425\n",
       "2   0 days 00:11:48.421996532\n",
       "3   0 days 00:11:59.013598598\n",
       "4   0 days 00:12:11.065371988\n",
       "5   0 days 00:13:56.770822159\n",
       "6   0 days 00:13:47.924871535\n",
       "Name: ride_len, dtype: timedelta64[ns]"
      ]
     },
     "execution_count": 39,
     "metadata": {},
     "output_type": "execute_result"
    }
   ],
   "source": [
    "# Calculate the average ride_length for members by week_day\n",
    "member_avg_ride_len_week_day = cleaned_file[cleaned_file[\"member_casual\"] == \"member\"].groupby('week_day')['ride_len'].mean(numeric_only=False)\n",
    "member_avg_ride_len_week_day"
   ]
  },
  {
   "cell_type": "code",
   "execution_count": 40,
   "id": "718cf42e",
   "metadata": {},
   "outputs": [
    {
     "data": {
      "text/plain": [
       "week_day\n",
       "0   0 days 00:24:38.832563894\n",
       "1   0 days 00:21:17.355551887\n",
       "2   0 days 00:20:28.427237983\n",
       "3   0 days 00:21:06.944876830\n",
       "4   0 days 00:22:13.309538815\n",
       "5   0 days 00:26:37.820198856\n",
       "6   0 days 00:27:07.430080472\n",
       "Name: ride_len, dtype: timedelta64[ns]"
      ]
     },
     "execution_count": 40,
     "metadata": {},
     "output_type": "execute_result"
    }
   ],
   "source": [
    "# Calculate the average ride_length for casual by week_day\n",
    "casual_avg_ride_len_week_day = cleaned_file[cleaned_file[\"member_casual\"] == \"casual\"].groupby('week_day')['ride_len'].mean(numeric_only=False)\n",
    "casual_avg_ride_len_week_day"
   ]
  },
  {
   "cell_type": "code",
   "execution_count": 41,
   "id": "99fc5c65",
   "metadata": {},
   "outputs": [
    {
     "data": {
      "image/png": "[encoded data removed]",
      "text/plain": [
       "<Figure size 432x288 with 1 Axes>"
      ]
     },
     "metadata": {
      "needs_background": "light"
     },
     "output_type": "display_data"
    }
   ],
   "source": [
    "# Plot graph of Weekday Vs Average ride length\n",
    "plt.plot(user_avg_ride_len_week_day.dt.total_seconds()/60)\n",
    "plt.plot(member_avg_ride_len_week_day.dt.total_seconds()/60)\n",
    "plt.plot(casual_avg_ride_len_week_day.dt.total_seconds()/60)\n",
    "plt.title(\"Average ride length by week day for different users\")\n",
    "plt.legend([\"user\", \"member\", \"casual\"])\n",
    "labels = [\"Sunday\", \"Monday\", \"Tuesday\", \"Wednesday\", \"Thursday\", \"Friday\", \"Saturday\"]\n",
    "plt.xticks(user_avg_ride_len_week_day.index, labels)\n",
    "plt.show()"
   ]
  },
  {
   "cell_type": "code",
   "execution_count": 42,
   "id": "37bc0406",
   "metadata": {},
   "outputs": [
    {
     "data": {
      "text/html": [
       "<div>\n",
       "<style scoped>\n",
       "    .dataframe tbody tr th:only-of-type {\n",
       "        vertical-align: middle;\n",
       "    }\n",
       "\n",
       "    .dataframe tbody tr th {\n",
       "        vertical-align: top;\n",
       "    }\n",
       "\n",
       "    .dataframe thead th {\n",
       "        text-align: right;\n",
       "    }\n",
       "</style>\n",
       "<table border=\"1\" class=\"dataframe\">\n",
       "  <thead>\n",
       "    <tr style=\"text-align: right;\">\n",
       "      <th></th>\n",
       "      <th>Unnamed: 0</th>\n",
       "      <th>ride_id</th>\n",
       "      <th>rideable_type</th>\n",
       "      <th>started_at</th>\n",
       "      <th>ended_at</th>\n",
       "      <th>start_station_name</th>\n",
       "      <th>start_station_id</th>\n",
       "      <th>end_station_name</th>\n",
       "      <th>end_station_id</th>\n",
       "      <th>start_lat</th>\n",
       "      <th>...</th>\n",
       "      <th>end_time</th>\n",
       "      <th>ride_length</th>\n",
       "      <th>start_date1</th>\n",
       "      <th>week_day</th>\n",
       "      <th>x</th>\n",
       "      <th>y</th>\n",
       "      <th>distance</th>\n",
       "      <th>year</th>\n",
       "      <th>month</th>\n",
       "      <th>ride_len</th>\n",
       "    </tr>\n",
       "  </thead>\n",
       "  <tbody>\n",
       "    <tr>\n",
       "      <th>0</th>\n",
       "      <td>75131</td>\n",
       "      <td>6325229942E058A1</td>\n",
       "      <td>classic_bike</td>\n",
       "      <td>2022-02-01 00:03:18</td>\n",
       "      <td>2022-02-01 00:09:37</td>\n",
       "      <td>DuSable Lake Shore Dr &amp; Diversey Pkwy</td>\n",
       "      <td>TA1309000039</td>\n",
       "      <td>Clark St &amp; Wellington Ave</td>\n",
       "      <td>TA1307000136</td>\n",
       "      <td>41.932588</td>\n",
       "      <td>...</td>\n",
       "      <td>2022-02-01 00:09:37</td>\n",
       "      <td>0 days 00:06:19</td>\n",
       "      <td>2022-02-01 00:00:00</td>\n",
       "      <td>1</td>\n",
       "      <td>1.527889e-05</td>\n",
       "      <td>1.234689e-04</td>\n",
       "      <td>0.011779</td>\n",
       "      <td>2022</td>\n",
       "      <td>2</td>\n",
       "      <td>0 days 00:06:19</td>\n",
       "    </tr>\n",
       "    <tr>\n",
       "      <th>1</th>\n",
       "      <td>24395</td>\n",
       "      <td>E7F30D46ACF9071D</td>\n",
       "      <td>electric_bike</td>\n",
       "      <td>2022-02-01 00:04:30</td>\n",
       "      <td>2022-02-01 00:17:12</td>\n",
       "      <td>Broadway &amp; Berwyn Ave</td>\n",
       "      <td>13109</td>\n",
       "      <td>Western Ave &amp; Leland Ave</td>\n",
       "      <td>TA1307000140</td>\n",
       "      <td>41.978369</td>\n",
       "      <td>...</td>\n",
       "      <td>2022-02-01 00:17:12</td>\n",
       "      <td>0 days 00:12:42</td>\n",
       "      <td>2022-02-01 00:00:00</td>\n",
       "      <td>1</td>\n",
       "      <td>1.432617e-04</td>\n",
       "      <td>8.367298e-04</td>\n",
       "      <td>0.031305</td>\n",
       "      <td>2022</td>\n",
       "      <td>2</td>\n",
       "      <td>0 days 00:12:42</td>\n",
       "    </tr>\n",
       "    <tr>\n",
       "      <th>2</th>\n",
       "      <td>5026</td>\n",
       "      <td>C998184FE3DD7937</td>\n",
       "      <td>classic_bike</td>\n",
       "      <td>2022-02-01 00:08:00</td>\n",
       "      <td>2022-02-01 00:47:59</td>\n",
       "      <td>Millennium Park</td>\n",
       "      <td>13008</td>\n",
       "      <td>Michigan Ave &amp; 8th St</td>\n",
       "      <td>623</td>\n",
       "      <td>41.881032</td>\n",
       "      <td>...</td>\n",
       "      <td>2022-02-01 00:47:59</td>\n",
       "      <td>0 days 00:39:59</td>\n",
       "      <td>2022-02-01 00:00:00</td>\n",
       "      <td>1</td>\n",
       "      <td>6.820613e-05</td>\n",
       "      <td>1.067502e-08</td>\n",
       "      <td>0.008259</td>\n",
       "      <td>2022</td>\n",
       "      <td>2</td>\n",
       "      <td>0 days 00:39:59</td>\n",
       "    </tr>\n",
       "    <tr>\n",
       "      <th>3</th>\n",
       "      <td>5027</td>\n",
       "      <td>CD92D9AF505AA077</td>\n",
       "      <td>classic_bike</td>\n",
       "      <td>2022-02-01 00:08:02</td>\n",
       "      <td>2022-02-01 00:47:53</td>\n",
       "      <td>Millennium Park</td>\n",
       "      <td>13008</td>\n",
       "      <td>Michigan Ave &amp; 8th St</td>\n",
       "      <td>623</td>\n",
       "      <td>41.881032</td>\n",
       "      <td>...</td>\n",
       "      <td>2022-02-01 00:47:53</td>\n",
       "      <td>0 days 00:39:51</td>\n",
       "      <td>2022-02-01 00:00:00</td>\n",
       "      <td>1</td>\n",
       "      <td>6.820613e-05</td>\n",
       "      <td>1.067502e-08</td>\n",
       "      <td>0.008259</td>\n",
       "      <td>2022</td>\n",
       "      <td>2</td>\n",
       "      <td>0 days 00:39:51</td>\n",
       "    </tr>\n",
       "    <tr>\n",
       "      <th>4</th>\n",
       "      <td>71374</td>\n",
       "      <td>B37FCA40551A04D1</td>\n",
       "      <td>classic_bike</td>\n",
       "      <td>2022-02-01 00:09:52</td>\n",
       "      <td>2022-02-01 00:52:15</td>\n",
       "      <td>University Ave &amp; 57th St</td>\n",
       "      <td>KA1503000071</td>\n",
       "      <td>Indiana Ave &amp; Roosevelt Rd</td>\n",
       "      <td>SL-005</td>\n",
       "      <td>41.791478</td>\n",
       "      <td>...</td>\n",
       "      <td>2022-02-01 00:52:15</td>\n",
       "      <td>0 days 00:42:23</td>\n",
       "      <td>2022-02-01 00:00:00</td>\n",
       "      <td>1</td>\n",
       "      <td>5.838488e-03</td>\n",
       "      <td>5.373124e-04</td>\n",
       "      <td>0.079849</td>\n",
       "      <td>2022</td>\n",
       "      <td>2</td>\n",
       "      <td>0 days 00:42:23</td>\n",
       "    </tr>\n",
       "    <tr>\n",
       "      <th>...</th>\n",
       "      <td>...</td>\n",
       "      <td>...</td>\n",
       "      <td>...</td>\n",
       "      <td>...</td>\n",
       "      <td>...</td>\n",
       "      <td>...</td>\n",
       "      <td>...</td>\n",
       "      <td>...</td>\n",
       "      <td>...</td>\n",
       "      <td>...</td>\n",
       "      <td>...</td>\n",
       "      <td>...</td>\n",
       "      <td>...</td>\n",
       "      <td>...</td>\n",
       "      <td>...</td>\n",
       "      <td>...</td>\n",
       "      <td>...</td>\n",
       "      <td>...</td>\n",
       "      <td>...</td>\n",
       "      <td>...</td>\n",
       "      <td>...</td>\n",
       "    </tr>\n",
       "    <tr>\n",
       "      <th>4437511</th>\n",
       "      <td>30637</td>\n",
       "      <td>52CE4BEB32C7AC9B</td>\n",
       "      <td>classic_bike</td>\n",
       "      <td>2023-01-31 23:48:44</td>\n",
       "      <td>2023-01-31 23:51:25</td>\n",
       "      <td>Clark St &amp; Lake St</td>\n",
       "      <td>KA1503000012</td>\n",
       "      <td>LaSalle St &amp; Washington St</td>\n",
       "      <td>13006</td>\n",
       "      <td>41.886021</td>\n",
       "      <td>...</td>\n",
       "      <td>2023-01-31 23:51:25</td>\n",
       "      <td>0 days 00:02:41</td>\n",
       "      <td>2023-01-31 00:00:00</td>\n",
       "      <td>1</td>\n",
       "      <td>1.126829e-05</td>\n",
       "      <td>2.735523e-06</td>\n",
       "      <td>0.003742</td>\n",
       "      <td>2023</td>\n",
       "      <td>1</td>\n",
       "      <td>0 days 00:02:41</td>\n",
       "    </tr>\n",
       "    <tr>\n",
       "      <th>4437512</th>\n",
       "      <td>142368</td>\n",
       "      <td>446D7FFE9446C988</td>\n",
       "      <td>classic_bike</td>\n",
       "      <td>2023-01-31 23:49:59</td>\n",
       "      <td>2023-01-31 23:51:25</td>\n",
       "      <td>LaSalle St &amp; Illinois St</td>\n",
       "      <td>13430</td>\n",
       "      <td>Wells St &amp; Hubbard St</td>\n",
       "      <td>TA1307000151</td>\n",
       "      <td>41.890762</td>\n",
       "      <td>...</td>\n",
       "      <td>2023-01-31 23:51:25</td>\n",
       "      <td>0 days 00:01:26</td>\n",
       "      <td>2023-01-31 00:00:00</td>\n",
       "      <td>1</td>\n",
       "      <td>7.327360e-07</td>\n",
       "      <td>6.599761e-06</td>\n",
       "      <td>0.002708</td>\n",
       "      <td>2023</td>\n",
       "      <td>1</td>\n",
       "      <td>0 days 00:01:26</td>\n",
       "    </tr>\n",
       "    <tr>\n",
       "      <th>4437513</th>\n",
       "      <td>127709</td>\n",
       "      <td>03C7B7A14C694AEB</td>\n",
       "      <td>classic_bike</td>\n",
       "      <td>2023-01-31 23:51:19</td>\n",
       "      <td>2023-01-31 23:55:33</td>\n",
       "      <td>University Ave &amp; 57th St</td>\n",
       "      <td>KA1503000071</td>\n",
       "      <td>Ellis Ave &amp; 60th St</td>\n",
       "      <td>KA1503000014</td>\n",
       "      <td>41.791478</td>\n",
       "      <td>...</td>\n",
       "      <td>2023-01-31 23:55:33</td>\n",
       "      <td>0 days 00:04:14</td>\n",
       "      <td>2023-01-31 00:00:00</td>\n",
       "      <td>1</td>\n",
       "      <td>4.071529e-05</td>\n",
       "      <td>1.468364e-06</td>\n",
       "      <td>0.006495</td>\n",
       "      <td>2023</td>\n",
       "      <td>1</td>\n",
       "      <td>0 days 00:04:14</td>\n",
       "    </tr>\n",
       "    <tr>\n",
       "      <th>4437514</th>\n",
       "      <td>158931</td>\n",
       "      <td>56FF83E0D18B8AAB</td>\n",
       "      <td>electric_bike</td>\n",
       "      <td>2023-01-31 23:51:57</td>\n",
       "      <td>2023-01-31 23:59:01</td>\n",
       "      <td>Wells St &amp; Hubbard St</td>\n",
       "      <td>TA1307000151</td>\n",
       "      <td>Federal St &amp; Polk St</td>\n",
       "      <td>SL-008</td>\n",
       "      <td>41.889923</td>\n",
       "      <td>...</td>\n",
       "      <td>2023-01-31 23:59:01</td>\n",
       "      <td>0 days 00:07:04</td>\n",
       "      <td>2023-01-31 00:00:00</td>\n",
       "      <td>1</td>\n",
       "      <td>3.184733e-04</td>\n",
       "      <td>2.253214e-05</td>\n",
       "      <td>0.018466</td>\n",
       "      <td>2023</td>\n",
       "      <td>1</td>\n",
       "      <td>0 days 00:07:04</td>\n",
       "    </tr>\n",
       "    <tr>\n",
       "      <th>4437515</th>\n",
       "      <td>105397</td>\n",
       "      <td>D915F47D01416C18</td>\n",
       "      <td>classic_bike</td>\n",
       "      <td>2023-01-31 23:53:18</td>\n",
       "      <td>2023-01-31 23:57:38</td>\n",
       "      <td>Paulina St &amp; 18th St</td>\n",
       "      <td>TA1307000159</td>\n",
       "      <td>Racine Ave &amp; 18th St</td>\n",
       "      <td>13164</td>\n",
       "      <td>41.857901</td>\n",
       "      <td>...</td>\n",
       "      <td>2023-01-31 23:57:38</td>\n",
       "      <td>0 days 00:04:20</td>\n",
       "      <td>2023-01-31 00:00:00</td>\n",
       "      <td>1</td>\n",
       "      <td>7.022500e-08</td>\n",
       "      <td>1.500625e-04</td>\n",
       "      <td>0.012253</td>\n",
       "      <td>2023</td>\n",
       "      <td>1</td>\n",
       "      <td>0 days 00:04:20</td>\n",
       "    </tr>\n",
       "  </tbody>\n",
       "</table>\n",
       "<p>4437516 rows × 25 columns</p>\n",
       "</div>"
      ],
      "text/plain": [
       "         Unnamed: 0           ride_id  rideable_type           started_at  \\\n",
       "0             75131  6325229942E058A1   classic_bike  2022-02-01 00:03:18   \n",
       "1             24395  E7F30D46ACF9071D  electric_bike  2022-02-01 00:04:30   \n",
       "2              5026  C998184FE3DD7937   classic_bike  2022-02-01 00:08:00   \n",
       "3              5027  CD92D9AF505AA077   classic_bike  2022-02-01 00:08:02   \n",
       "4             71374  B37FCA40551A04D1   classic_bike  2022-02-01 00:09:52   \n",
       "...             ...               ...            ...                  ...   \n",
       "4437511       30637  52CE4BEB32C7AC9B   classic_bike  2023-01-31 23:48:44   \n",
       "4437512      142368  446D7FFE9446C988   classic_bike  2023-01-31 23:49:59   \n",
       "4437513      127709  03C7B7A14C694AEB   classic_bike  2023-01-31 23:51:19   \n",
       "4437514      158931  56FF83E0D18B8AAB  electric_bike  2023-01-31 23:51:57   \n",
       "4437515      105397  D915F47D01416C18   classic_bike  2023-01-31 23:53:18   \n",
       "\n",
       "                    ended_at                     start_station_name  \\\n",
       "0        2022-02-01 00:09:37  DuSable Lake Shore Dr & Diversey Pkwy   \n",
       "1        2022-02-01 00:17:12                  Broadway & Berwyn Ave   \n",
       "2        2022-02-01 00:47:59                        Millennium Park   \n",
       "3        2022-02-01 00:47:53                        Millennium Park   \n",
       "4        2022-02-01 00:52:15               University Ave & 57th St   \n",
       "...                      ...                                    ...   \n",
       "4437511  2023-01-31 23:51:25                     Clark St & Lake St   \n",
       "4437512  2023-01-31 23:51:25               LaSalle St & Illinois St   \n",
       "4437513  2023-01-31 23:55:33               University Ave & 57th St   \n",
       "4437514  2023-01-31 23:59:01                  Wells St & Hubbard St   \n",
       "4437515  2023-01-31 23:57:38                   Paulina St & 18th St   \n",
       "\n",
       "        start_station_id            end_station_name end_station_id  \\\n",
       "0           TA1309000039   Clark St & Wellington Ave   TA1307000136   \n",
       "1                  13109    Western Ave & Leland Ave   TA1307000140   \n",
       "2                  13008       Michigan Ave & 8th St            623   \n",
       "3                  13008       Michigan Ave & 8th St            623   \n",
       "4           KA1503000071  Indiana Ave & Roosevelt Rd         SL-005   \n",
       "...                  ...                         ...            ...   \n",
       "4437511     KA1503000012  LaSalle St & Washington St          13006   \n",
       "4437512            13430       Wells St & Hubbard St   TA1307000151   \n",
       "4437513     KA1503000071         Ellis Ave & 60th St   KA1503000014   \n",
       "4437514     TA1307000151        Federal St & Polk St         SL-008   \n",
       "4437515     TA1307000159        Racine Ave & 18th St          13164   \n",
       "\n",
       "         start_lat  ...             end_time      ride_length  \\\n",
       "0        41.932588  ...  2022-02-01 00:09:37  0 days 00:06:19   \n",
       "1        41.978369  ...  2022-02-01 00:17:12  0 days 00:12:42   \n",
       "2        41.881032  ...  2022-02-01 00:47:59  0 days 00:39:59   \n",
       "3        41.881032  ...  2022-02-01 00:47:53  0 days 00:39:51   \n",
       "4        41.791478  ...  2022-02-01 00:52:15  0 days 00:42:23   \n",
       "...            ...  ...                  ...              ...   \n",
       "4437511  41.886021  ...  2023-01-31 23:51:25  0 days 00:02:41   \n",
       "4437512  41.890762  ...  2023-01-31 23:51:25  0 days 00:01:26   \n",
       "4437513  41.791478  ...  2023-01-31 23:55:33  0 days 00:04:14   \n",
       "4437514  41.889923  ...  2023-01-31 23:59:01  0 days 00:07:04   \n",
       "4437515  41.857901  ...  2023-01-31 23:57:38  0 days 00:04:20   \n",
       "\n",
       "                 start_date1 week_day             x             y  distance  \\\n",
       "0        2022-02-01 00:00:00        1  1.527889e-05  1.234689e-04  0.011779   \n",
       "1        2022-02-01 00:00:00        1  1.432617e-04  8.367298e-04  0.031305   \n",
       "2        2022-02-01 00:00:00        1  6.820613e-05  1.067502e-08  0.008259   \n",
       "3        2022-02-01 00:00:00        1  6.820613e-05  1.067502e-08  0.008259   \n",
       "4        2022-02-01 00:00:00        1  5.838488e-03  5.373124e-04  0.079849   \n",
       "...                      ...      ...           ...           ...       ...   \n",
       "4437511  2023-01-31 00:00:00        1  1.126829e-05  2.735523e-06  0.003742   \n",
       "4437512  2023-01-31 00:00:00        1  7.327360e-07  6.599761e-06  0.002708   \n",
       "4437513  2023-01-31 00:00:00        1  4.071529e-05  1.468364e-06  0.006495   \n",
       "4437514  2023-01-31 00:00:00        1  3.184733e-04  2.253214e-05  0.018466   \n",
       "4437515  2023-01-31 00:00:00        1  7.022500e-08  1.500625e-04  0.012253   \n",
       "\n",
       "         year  month        ride_len  \n",
       "0        2022      2 0 days 00:06:19  \n",
       "1        2022      2 0 days 00:12:42  \n",
       "2        2022      2 0 days 00:39:59  \n",
       "3        2022      2 0 days 00:39:51  \n",
       "4        2022      2 0 days 00:42:23  \n",
       "...       ...    ...             ...  \n",
       "4437511  2023      1 0 days 00:02:41  \n",
       "4437512  2023      1 0 days 00:01:26  \n",
       "4437513  2023      1 0 days 00:04:14  \n",
       "4437514  2023      1 0 days 00:07:04  \n",
       "4437515  2023      1 0 days 00:04:20  \n",
       "\n",
       "[4437516 rows x 25 columns]"
      ]
     },
     "execution_count": 42,
     "metadata": {},
     "output_type": "execute_result"
    }
   ],
   "source": [
    "cleaned_file"
   ]
  },
  {
   "cell_type": "code",
   "execution_count": 43,
   "id": "9980ad87",
   "metadata": {},
   "outputs": [],
   "source": [
    "# Extract important features of the dataframe into a new dataframe\n",
    "final_file = cleaned_file[[\"ride_id\", \"rideable_type\", \"ride_len\", \"week_day\", \"distance\", \"year\", \"month\", \"member_casual\"]]"
   ]
  },
  {
   "cell_type": "code",
   "execution_count": 44,
   "id": "d241f74b",
   "metadata": {},
   "outputs": [
    {
     "name": "stdout",
     "output_type": "stream",
     "text": [
      "<class 'pandas.core.frame.DataFrame'>\n",
      "RangeIndex: 4437516 entries, 0 to 4437515\n",
      "Data columns (total 8 columns):\n",
      " #   Column         Dtype          \n",
      "---  ------         -----          \n",
      " 0   ride_id        object         \n",
      " 1   rideable_type  object         \n",
      " 2   ride_len       timedelta64[ns]\n",
      " 3   week_day       int64          \n",
      " 4   distance       float64        \n",
      " 5   year           int64          \n",
      " 6   month          int64          \n",
      " 7   member_casual  object         \n",
      "dtypes: float64(1), int64(3), object(3), timedelta64[ns](1)\n",
      "memory usage: 270.8+ MB\n"
     ]
    }
   ],
   "source": [
    "# Information of the dataframe\n",
    "final_file.info()"
   ]
  },
  {
   "cell_type": "code",
   "execution_count": 45,
   "id": "f8781b48",
   "metadata": {},
   "outputs": [],
   "source": [
    "# data analysis"
   ]
  },
  {
   "cell_type": "code",
   "execution_count": 46,
   "id": "2019c0c9",
   "metadata": {},
   "outputs": [
    {
     "data": {
      "text/plain": [
       "member    2662311\n",
       "casual    1775205\n",
       "Name: member_casual, dtype: int64"
      ]
     },
     "execution_count": 46,
     "metadata": {},
     "output_type": "execute_result"
    }
   ],
   "source": [
    "# Check the number of users in each type over past 12 months\n",
    "member_type = final_file[\"member_casual\"].value_counts()\n",
    "member_type"
   ]
  },
  {
   "cell_type": "code",
   "execution_count": 47,
   "id": "9e5ec33d",
   "metadata": {},
   "outputs": [
    {
     "data": {
      "image/png": "[encoded data removed]",
      "text/plain": [
       "<Figure size 432x288 with 1 Axes>"
      ]
     },
     "metadata": {
      "needs_background": "light"
     },
     "output_type": "display_data"
    }
   ],
   "source": [
    "# Plot a bar graph of count of users in each member type\n",
    "plt.title(\"Count of users in each member type\")\n",
    "plt.bar(member_type.index, member_type.values)\n",
    "plt.show()"
   ]
  },
  {
   "cell_type": "code",
   "execution_count": 48,
   "id": "39e0d1fc",
   "metadata": {},
   "outputs": [
    {
     "data": {
      "image/png": "[encoded data removed]",
      "text/plain": [
       "<Figure size 576x432 with 1 Axes>"
      ]
     },
     "metadata": {},
     "output_type": "display_data"
    }
   ],
   "source": [
    "# Plot the pie chart of users in each type\n",
    "plt.figure(figsize = (8,6))\n",
    "plt.pie(member_type.values, labels = member_type.index, autopct='%1.1f%%')\n",
    "plt.title(\"Percentage of users in each type\")\n",
    "plt.legend(member_type.index)\n",
    "plt.show()"
   ]
  },
  {
   "cell_type": "code",
   "execution_count": 49,
   "id": "24749c4d",
   "metadata": {},
   "outputs": [
    {
     "data": {
      "text/plain": [
       "year  member_casual\n",
       "2022  member           2543648\n",
       "      casual           1745584\n",
       "2023  member            118663\n",
       "      casual             29621\n",
       "Name: member_casual, dtype: int64"
      ]
     },
     "execution_count": 49,
     "metadata": {},
     "output_type": "execute_result"
    }
   ],
   "source": [
    "# Check the number of users over years\n",
    "users_over_year = final_file.groupby('year')['member_casual'].value_counts()\n",
    "users_over_year"
   ]
  },
  {
   "cell_type": "code",
   "execution_count": 50,
   "id": "da29ae9d",
   "metadata": {},
   "outputs": [],
   "source": [
    "# Create lists for x, y, and year from users_over_year dataframe\n",
    "list_year = []\n",
    "list_x = []\n",
    "list_y = list(users_over_year.values)\n",
    "for i, j in users_over_year.index:\n",
    "  list_x.append(j)\n",
    "  list_year.append(str(i))"
   ]
  },
  {
   "cell_type": "code",
   "execution_count": 51,
   "id": "1860c3b0",
   "metadata": {},
   "outputs": [
    {
     "data": {
      "image/png": "[encoded data removed]",
      "text/plain": [
       "<Figure size 432x288 with 1 Axes>"
      ]
     },
     "metadata": {
      "needs_background": "light"
     },
     "output_type": "display_data"
    }
   ],
   "source": [
    "# Ignore future warning\n",
    "import warnings\n",
    "warnings.simplefilter(action=\"ignore\", category=FutureWarning)\n",
    "\n",
    "# Plot bar graph using seaborn\n",
    "sns.barplot(list_x, list_y, hue = list_year)\n",
    "plt.title(\"Count of Member and Casual Riders over the years\")\n",
    "plt.show()"
   ]
  },
  {
   "cell_type": "code",
   "execution_count": 52,
   "id": "72f38277",
   "metadata": {},
   "outputs": [
    {
     "data": {
      "text/plain": [
       "month  member_casual\n",
       "1      member           118663\n",
       "       casual            29621\n",
       "2      member            74034\n",
       "       casual            15144\n",
       "3      member           148827\n",
       "       casual            67156\n",
       "4      member           180663\n",
       "       casual            91897\n",
       "5      member           282299\n",
       "       casual           220246\n",
       "6      member           328282\n",
       "       casual           292068\n",
       "7      member           331002\n",
       "       casual           311678\n",
       "8      member           335230\n",
       "       casual           270095\n",
       "9      member           314230\n",
       "       casual           220915\n",
       "10     member           262945\n",
       "       casual           151324\n",
       "11     member           182238\n",
       "       casual            73556\n",
       "12     member           103898\n",
       "       casual            31505\n",
       "Name: member_casual, dtype: int64"
      ]
     },
     "execution_count": 52,
     "metadata": {},
     "output_type": "execute_result"
    }
   ],
   "source": [
    "# check the number of users over months\n",
    "users_over_month = final_file.groupby('month')['member_casual'].value_counts()\n",
    "users_over_month"
   ]
  },
  {
   "cell_type": "code",
   "execution_count": 53,
   "id": "907c4070",
   "metadata": {},
   "outputs": [],
   "source": [
    "# Segregate the number of users into member or casual riders over the months\n",
    "list_month = []\n",
    "list_x = []\n",
    "list_y = list(users_over_month.values)\n",
    "for i, j in users_over_month.index:\n",
    "    list_x.append(j)\n",
    "    list_month.append(str(i))"
   ]
  },
  {
   "cell_type": "code",
   "execution_count": 54,
   "id": "7f439d13",
   "metadata": {},
   "outputs": [
    {
     "data": {
      "text/plain": [
       "Text(0.5, 1.0, 'Count of Member and Casual Riders over the months')"
      ]
     },
     "execution_count": 54,
     "metadata": {},
     "output_type": "execute_result"
    },
    {
     "data": {
      "image/png": "[encoded data removed]",
      "text/plain": [
       "<Figure size 1296x576 with 1 Axes>"
      ]
     },
     "metadata": {
      "needs_background": "light"
     },
     "output_type": "display_data"
    }
   ],
   "source": [
    "# Plot count of Member and Casual Riders over the months\n",
    "plt.figure(figsize=(18, 8))\n",
    "sns.barplot(list_x, list_y, hue=list_month)\n",
    "plt.title(\"Count of Member and Casual Riders over the months\")"
   ]
  },
  {
   "cell_type": "code",
   "execution_count": 55,
   "id": "fb044bc0",
   "metadata": {},
   "outputs": [
    {
     "data": {
      "text/plain": [
       "member_casual  rideable_type\n",
       "casual         classic_bike      895745\n",
       "               electric_bike     703863\n",
       "               docked_bike       175597\n",
       "member         classic_bike     1737203\n",
       "               electric_bike     925108\n",
       "Name: rideable_type, dtype: int64"
      ]
     },
     "execution_count": 55,
     "metadata": {},
     "output_type": "execute_result"
    }
   ],
   "source": [
    "# Check the number of users for a particulat rideable_type\n",
    "ride_type = final_file.groupby(\"member_casual\")[\"rideable_type\"].value_counts()\n",
    "ride_type"
   ]
  },
  {
   "cell_type": "code",
   "execution_count": 56,
   "id": "15852d14",
   "metadata": {},
   "outputs": [],
   "source": [
    "# Segregate the number of users into member or casual riders based on ride type\n",
    "list_member = []\n",
    "list_x = []\n",
    "list_y = list(ride_type.values)\n",
    "for i, j in ride_type.index:\n",
    "  list_x.append(j)\n",
    "  list_member.append(str(i))"
   ]
  },
  {
   "cell_type": "code",
   "execution_count": 57,
   "id": "c0fa9f83",
   "metadata": {},
   "outputs": [
    {
     "data": {
      "text/plain": [
       "Text(0.5, 1.0, 'Count of Member and Casual Riders based on Ride Type')"
      ]
     },
     "execution_count": 57,
     "metadata": {},
     "output_type": "execute_result"
    },
    {
     "data": {
      "image/png": "[encoded data removed]",
      "text/plain": [
       "<Figure size 1296x576 with 1 Axes>"
      ]
     },
     "metadata": {
      "needs_background": "light"
     },
     "output_type": "display_data"
    }
   ],
   "source": [
    "# plot number of users into member or casual riders based on ride type\n",
    "plt.figure(figsize = (18,8))\n",
    "sns.barplot(list_x, list_y, hue = list_member)\n",
    "plt.title(\"Count of Member and Casual Riders based on Ride Type\")"
   ]
  },
  {
   "cell_type": "code",
   "execution_count": null,
   "id": "74540eff",
   "metadata": {},
   "outputs": [],
   "source": []
  }
 ],
 "metadata": {
  "kernelspec": {
   "display_name": "Python 3 (ipykernel)",
   "language": "python",
   "name": "python3"
  },
  "language_info": {
   "codemirror_mode": {
    "name": "ipython",
    "version": 3
   },
   "file_extension": ".py",
   "mimetype": "text/x-python",
   "name": "python",
   "nbconvert_exporter": "python",
   "pygments_lexer": "ipython3",
   "version": "3.9.7"
  }
 },
 "nbformat": 4,
 "nbformat_minor": 5
}
